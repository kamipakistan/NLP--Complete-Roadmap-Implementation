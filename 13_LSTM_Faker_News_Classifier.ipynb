{
 "cells": [
  {
   "cell_type": "markdown",
   "id": "7ae13bb2-4c44-4302-8fd6-0df6ae3dc361",
   "metadata": {},
   "source": [
    "# **Faker News Classifier Using LSTM**"
   ]
  },
  {
   "cell_type": "code",
   "execution_count": 1,
   "id": "e6461e05-a81f-46e4-b62c-453a06bf38c2",
   "metadata": {},
   "outputs": [],
   "source": [
    "# Importing Librareis\n",
    "import numpy as np\n",
    "import pandas as pd\n",
    "import matplotlib.pyplot as plt\n",
    "import seaborn as sns\n",
    "import re\n",
    "from nltk.corpus import stopwords\n",
    "from nltk.stem import PorterStemmer"
   ]
  },
  {
   "cell_type": "code",
   "execution_count": 2,
   "id": "af6f8b2c-bcbc-4d99-91da-fe51788a5cf5",
   "metadata": {},
   "outputs": [],
   "source": [
    "# loading dataset\n",
    "df = pd.read_csv(\"Datasets/Fake News Classifier.csv\")"
   ]
  },
  {
   "cell_type": "code",
   "execution_count": 3,
   "id": "679567b3-c890-4acc-b154-660c66b4cead",
   "metadata": {},
   "outputs": [
    {
     "data": {
      "text/html": [
       "<div>\n",
       "<style scoped>\n",
       "    .dataframe tbody tr th:only-of-type {\n",
       "        vertical-align: middle;\n",
       "    }\n",
       "\n",
       "    .dataframe tbody tr th {\n",
       "        vertical-align: top;\n",
       "    }\n",
       "\n",
       "    .dataframe thead th {\n",
       "        text-align: right;\n",
       "    }\n",
       "</style>\n",
       "<table border=\"1\" class=\"dataframe\">\n",
       "  <thead>\n",
       "    <tr style=\"text-align: right;\">\n",
       "      <th></th>\n",
       "      <th>id</th>\n",
       "      <th>title</th>\n",
       "      <th>author</th>\n",
       "      <th>text</th>\n",
       "      <th>label</th>\n",
       "    </tr>\n",
       "  </thead>\n",
       "  <tbody>\n",
       "    <tr>\n",
       "      <th>0</th>\n",
       "      <td>0</td>\n",
       "      <td>House Dem Aide: We Didn’t Even See Comey’s Let...</td>\n",
       "      <td>Darrell Lucus</td>\n",
       "      <td>House Dem Aide: We Didn’t Even See Comey’s Let...</td>\n",
       "      <td>1</td>\n",
       "    </tr>\n",
       "    <tr>\n",
       "      <th>1</th>\n",
       "      <td>1</td>\n",
       "      <td>FLYNN: Hillary Clinton, Big Woman on Campus - ...</td>\n",
       "      <td>Daniel J. Flynn</td>\n",
       "      <td>Ever get the feeling your life circles the rou...</td>\n",
       "      <td>0</td>\n",
       "    </tr>\n",
       "    <tr>\n",
       "      <th>2</th>\n",
       "      <td>2</td>\n",
       "      <td>Why the Truth Might Get You Fired</td>\n",
       "      <td>Consortiumnews.com</td>\n",
       "      <td>Why the Truth Might Get You Fired October 29, ...</td>\n",
       "      <td>1</td>\n",
       "    </tr>\n",
       "    <tr>\n",
       "      <th>3</th>\n",
       "      <td>3</td>\n",
       "      <td>15 Civilians Killed In Single US Airstrike Hav...</td>\n",
       "      <td>Jessica Purkiss</td>\n",
       "      <td>Videos 15 Civilians Killed In Single US Airstr...</td>\n",
       "      <td>1</td>\n",
       "    </tr>\n",
       "    <tr>\n",
       "      <th>4</th>\n",
       "      <td>4</td>\n",
       "      <td>Iranian woman jailed for fictional unpublished...</td>\n",
       "      <td>Howard Portnoy</td>\n",
       "      <td>Print \\nAn Iranian woman has been sentenced to...</td>\n",
       "      <td>1</td>\n",
       "    </tr>\n",
       "  </tbody>\n",
       "</table>\n",
       "</div>"
      ],
      "text/plain": [
       "   id                                              title              author  \\\n",
       "0   0  House Dem Aide: We Didn’t Even See Comey’s Let...       Darrell Lucus   \n",
       "1   1  FLYNN: Hillary Clinton, Big Woman on Campus - ...     Daniel J. Flynn   \n",
       "2   2                  Why the Truth Might Get You Fired  Consortiumnews.com   \n",
       "3   3  15 Civilians Killed In Single US Airstrike Hav...     Jessica Purkiss   \n",
       "4   4  Iranian woman jailed for fictional unpublished...      Howard Portnoy   \n",
       "\n",
       "                                                text  label  \n",
       "0  House Dem Aide: We Didn’t Even See Comey’s Let...      1  \n",
       "1  Ever get the feeling your life circles the rou...      0  \n",
       "2  Why the Truth Might Get You Fired October 29, ...      1  \n",
       "3  Videos 15 Civilians Killed In Single US Airstr...      1  \n",
       "4  Print \\nAn Iranian woman has been sentenced to...      1  "
      ]
     },
     "execution_count": 3,
     "metadata": {},
     "output_type": "execute_result"
    }
   ],
   "source": [
    "# display first five records of the dataset\n",
    "df.head()"
   ]
  },
  {
   "cell_type": "code",
   "execution_count": 4,
   "id": "ca4b5540-a24b-43e1-80fe-3f6e992a36ee",
   "metadata": {},
   "outputs": [
    {
     "data": {
      "text/plain": [
       "id           0\n",
       "title      558\n",
       "author    1957\n",
       "text        39\n",
       "label        0\n",
       "dtype: int64"
      ]
     },
     "execution_count": 4,
     "metadata": {},
     "output_type": "execute_result"
    }
   ],
   "source": [
    "# checking null values\n",
    "df.isnull().sum()"
   ]
  },
  {
   "cell_type": "code",
   "execution_count": 5,
   "id": "a250b3a8-4d5e-4874-83fe-e94202d4334e",
   "metadata": {},
   "outputs": [],
   "source": [
    "# dropping null values\n",
    "df.dropna(inplace = True)"
   ]
  },
  {
   "cell_type": "code",
   "execution_count": 6,
   "id": "22bd1956-f2c3-4a2a-815e-2de24eecda8a",
   "metadata": {},
   "outputs": [],
   "source": [
    "# reseting the index after droping some null values\n",
    "df.reset_index(inplace=True)"
   ]
  },
  {
   "cell_type": "code",
   "execution_count": 7,
   "id": "87c7caec-38cd-45d3-8323-85947260eb7d",
   "metadata": {},
   "outputs": [
    {
     "data": {
      "text/html": [
       "<div>\n",
       "<style scoped>\n",
       "    .dataframe tbody tr th:only-of-type {\n",
       "        vertical-align: middle;\n",
       "    }\n",
       "\n",
       "    .dataframe tbody tr th {\n",
       "        vertical-align: top;\n",
       "    }\n",
       "\n",
       "    .dataframe thead th {\n",
       "        text-align: right;\n",
       "    }\n",
       "</style>\n",
       "<table border=\"1\" class=\"dataframe\">\n",
       "  <thead>\n",
       "    <tr style=\"text-align: right;\">\n",
       "      <th></th>\n",
       "      <th>index</th>\n",
       "      <th>id</th>\n",
       "      <th>title</th>\n",
       "      <th>author</th>\n",
       "      <th>text</th>\n",
       "      <th>label</th>\n",
       "    </tr>\n",
       "  </thead>\n",
       "  <tbody>\n",
       "    <tr>\n",
       "      <th>0</th>\n",
       "      <td>0</td>\n",
       "      <td>0</td>\n",
       "      <td>House Dem Aide: We Didn’t Even See Comey’s Let...</td>\n",
       "      <td>Darrell Lucus</td>\n",
       "      <td>House Dem Aide: We Didn’t Even See Comey’s Let...</td>\n",
       "      <td>1</td>\n",
       "    </tr>\n",
       "    <tr>\n",
       "      <th>1</th>\n",
       "      <td>1</td>\n",
       "      <td>1</td>\n",
       "      <td>FLYNN: Hillary Clinton, Big Woman on Campus - ...</td>\n",
       "      <td>Daniel J. Flynn</td>\n",
       "      <td>Ever get the feeling your life circles the rou...</td>\n",
       "      <td>0</td>\n",
       "    </tr>\n",
       "  </tbody>\n",
       "</table>\n",
       "</div>"
      ],
      "text/plain": [
       "   index  id                                              title  \\\n",
       "0      0   0  House Dem Aide: We Didn’t Even See Comey’s Let...   \n",
       "1      1   1  FLYNN: Hillary Clinton, Big Woman on Campus - ...   \n",
       "\n",
       "            author                                               text  label  \n",
       "0    Darrell Lucus  House Dem Aide: We Didn’t Even See Comey’s Let...      1  \n",
       "1  Daniel J. Flynn  Ever get the feeling your life circles the rou...      0  "
      ]
     },
     "execution_count": 7,
     "metadata": {},
     "output_type": "execute_result"
    }
   ],
   "source": [
    "df.head(2)"
   ]
  },
  {
   "cell_type": "code",
   "execution_count": 8,
   "id": "72bc4ff5-52c9-453a-a922-7bde2d3c2acb",
   "metadata": {},
   "outputs": [],
   "source": [
    "# splitting the dataset into feature matrix and target vector\n",
    "X = df.drop(\"label\", axis = 1)\n",
    "y = df.label"
   ]
  },
  {
   "cell_type": "code",
   "execution_count": 9,
   "id": "ee4d582a-d727-4912-9e66-220be6306cdd",
   "metadata": {},
   "outputs": [
    {
     "data": {
      "text/html": [
       "<div>\n",
       "<style scoped>\n",
       "    .dataframe tbody tr th:only-of-type {\n",
       "        vertical-align: middle;\n",
       "    }\n",
       "\n",
       "    .dataframe tbody tr th {\n",
       "        vertical-align: top;\n",
       "    }\n",
       "\n",
       "    .dataframe thead th {\n",
       "        text-align: right;\n",
       "    }\n",
       "</style>\n",
       "<table border=\"1\" class=\"dataframe\">\n",
       "  <thead>\n",
       "    <tr style=\"text-align: right;\">\n",
       "      <th></th>\n",
       "      <th>index</th>\n",
       "      <th>id</th>\n",
       "      <th>title</th>\n",
       "      <th>author</th>\n",
       "      <th>text</th>\n",
       "    </tr>\n",
       "  </thead>\n",
       "  <tbody>\n",
       "    <tr>\n",
       "      <th>0</th>\n",
       "      <td>0</td>\n",
       "      <td>0</td>\n",
       "      <td>House Dem Aide: We Didn’t Even See Comey’s Let...</td>\n",
       "      <td>Darrell Lucus</td>\n",
       "      <td>House Dem Aide: We Didn’t Even See Comey’s Let...</td>\n",
       "    </tr>\n",
       "    <tr>\n",
       "      <th>1</th>\n",
       "      <td>1</td>\n",
       "      <td>1</td>\n",
       "      <td>FLYNN: Hillary Clinton, Big Woman on Campus - ...</td>\n",
       "      <td>Daniel J. Flynn</td>\n",
       "      <td>Ever get the feeling your life circles the rou...</td>\n",
       "    </tr>\n",
       "  </tbody>\n",
       "</table>\n",
       "</div>"
      ],
      "text/plain": [
       "   index  id                                              title  \\\n",
       "0      0   0  House Dem Aide: We Didn’t Even See Comey’s Let...   \n",
       "1      1   1  FLYNN: Hillary Clinton, Big Woman on Campus - ...   \n",
       "\n",
       "            author                                               text  \n",
       "0    Darrell Lucus  House Dem Aide: We Didn’t Even See Comey’s Let...  \n",
       "1  Daniel J. Flynn  Ever get the feeling your life circles the rou...  "
      ]
     },
     "execution_count": 9,
     "metadata": {},
     "output_type": "execute_result"
    }
   ],
   "source": [
    "X.head(2)"
   ]
  },
  {
   "cell_type": "code",
   "execution_count": 10,
   "id": "1543f0bb-32b4-4826-b940-5c5e8c03495c",
   "metadata": {},
   "outputs": [
    {
     "data": {
      "text/plain": [
       "18285"
      ]
     },
     "execution_count": 10,
     "metadata": {},
     "output_type": "execute_result"
    }
   ],
   "source": [
    "# checking the len of the feature matrix\n",
    "len(X)"
   ]
  },
  {
   "cell_type": "code",
   "execution_count": 11,
   "id": "4a3e357e-8919-4e33-8f4b-0eb40f45d610",
   "metadata": {},
   "outputs": [],
   "source": [
    "# Creating Stemmer object\n",
    "stemmer = PorterStemmer()"
   ]
  },
  {
   "cell_type": "code",
   "execution_count": 12,
   "id": "5034bdf3-ff81-45da-b9ef-6a6435b58bf5",
   "metadata": {},
   "outputs": [],
   "source": [
    "# list to store\n",
    "corpus = []\n",
    "for row in range(len(X)):\n",
    "    row = X[\"title\"][row]    # Getting the row\n",
    "    row = re.sub(\"[^a-zA-Z]\", \" \", row)   # keep only the alphabet characters\n",
    "    row = row.lower()  # lowering the sentence\n",
    "    words = row.split()  # splitting the sentence into words\n",
    "    words = [stemmer.stem(word) for word in words if word not in stopwords.words(\"english\")]  # removing unnecessary characters and apply stemming\n",
    "    sentence = ' '.join(words)  # remaking sentence again from words\n",
    "    corpus.append(sentence) # appending the sentence to the corpus"
   ]
  },
  {
   "cell_type": "code",
   "execution_count": 13,
   "id": "e1424359-4228-4ef7-92b8-2eed17f1a800",
   "metadata": {},
   "outputs": [
    {
     "data": {
      "text/plain": [
       "['hous dem aid even see comey letter jason chaffetz tweet',\n",
       " 'flynn hillari clinton big woman campu breitbart',\n",
       " 'truth might get fire',\n",
       " 'civilian kill singl us airstrik identifi',\n",
       " 'iranian woman jail fiction unpublish stori woman stone death adulteri',\n",
       " 'jacki mason hollywood would love trump bomb north korea lack tran bathroom exclus video breitbart',\n",
       " 'beno hamon win french socialist parti presidenti nomin new york time',\n",
       " 'back channel plan ukrain russia courtesi trump associ new york time']"
      ]
     },
     "execution_count": 13,
     "metadata": {},
     "output_type": "execute_result"
    }
   ],
   "source": [
    "corpus[0:8]"
   ]
  },
  {
   "cell_type": "markdown",
   "id": "f1edcdde-6aff-4cc7-9b6d-efa4f157ca8e",
   "metadata": {
    "tags": []
   },
   "source": [
    "## **Encoding using keras one_hot encoder**\n",
    "Args:\n",
    "* **input_text**: Input text (string).\n",
    "* **n**: int. Size of vocabulary.\n",
    "* **filters**: list (or concatenation) of characters to filter out, such as\n",
    "* **punctuation**. Default:\n",
    "      ```\n",
    "      '!\"#$%&()*+,-./:;<=>?@[\\]^_`{|}~\\t\\n\n",
    "      ```,\n",
    "      includes basic punctuation, tabs, and newlines.\n",
    "* **lower**: boolean. Whether to set the text to lowercase.\n",
    "* **split**: str. Separator for word splitting."
   ]
  },
  {
   "cell_type": "code",
   "execution_count": 14,
   "id": "e03dd4e9-60b4-4aff-8033-0ae27dd311f5",
   "metadata": {},
   "outputs": [],
   "source": [
    "from tensorflow.keras.preprocessing.text import one_hot"
   ]
  },
  {
   "cell_type": "code",
   "execution_count": 15,
   "id": "06a0f0e2-689b-4914-a28a-acda147243ef",
   "metadata": {},
   "outputs": [],
   "source": [
    "#Size of vocabulary.\n",
    "vocab = 10000 \n",
    "encodedCorpus = [one_hot(doc, vocab) for doc in corpus]"
   ]
  },
  {
   "cell_type": "code",
   "execution_count": 16,
   "id": "48664d52-2953-4142-bf8f-ab7397764da9",
   "metadata": {},
   "outputs": [
    {
     "data": {
      "text/plain": [
       "[[1952, 3095, 3747, 3130, 8259, 8401, 7227, 801, 7295, 8771],\n",
       " [8686, 2003, 3942, 7309, 5197, 8698, 4738],\n",
       " [6482, 6421, 8995, 8023],\n",
       " [2947, 8997, 9519, 5577, 4544, 2124],\n",
       " [396, 5197, 4593, 6505, 4504, 4956, 5197, 8322, 9655, 6372]]"
      ]
     },
     "execution_count": 16,
     "metadata": {},
     "output_type": "execute_result"
    }
   ],
   "source": [
    "encodedCorpus[0:5]"
   ]
  },
  {
   "cell_type": "code",
   "execution_count": 17,
   "id": "b92b29eb-9bce-4a2b-a0eb-cfdb03260f89",
   "metadata": {},
   "outputs": [
    {
     "data": {
      "text/plain": [
       "47"
      ]
     },
     "execution_count": 17,
     "metadata": {},
     "output_type": "execute_result"
    }
   ],
   "source": [
    "# finding the max length of sentence inside the corpus\n",
    "maxSentLen = 0\n",
    "for i in encodedCorpus:\n",
    "    sentLen = len(i)\n",
    "    if maxSentLen < sentLen:\n",
    "        maxSentLen = sentLen\n",
    "\n",
    "# printing maxlen\n",
    "maxSentLen"
   ]
  },
  {
   "cell_type": "markdown",
   "id": "68ec9510-9fad-427c-b0f5-5a594c9c4ab3",
   "metadata": {},
   "source": [
    "## **Converting all the sequenceses into equal length** \n",
    "Args:\n",
    "* **sequences**: List of sequences (each sequence is a list of integers).\n",
    "* **maxlen**: Optional Int, maximum length of all sequences. If not provided,\n",
    "        sequences will be padded to the length of the longest individual\n",
    "        sequence.\n",
    "* dtype: (Optional, defaults to int32). Type of the output sequences.\n",
    "        To pad sequences with variable length strings, you can use `object`.\n",
    "* padding: String, 'pre' or 'post' (optional, defaults to 'pre'):\n",
    "        pad either before or after each sequence.\n",
    "* truncating: String, 'pre' or 'post' (optional, defaults to 'pre'):\n",
    "        remove values from sequences larger than\n",
    "        `maxlen`, either at the beginning or at the end of the sequences.\n",
    "* value: Float or String, padding value. (Optional, defaults to 0.)"
   ]
  },
  {
   "cell_type": "code",
   "execution_count": 18,
   "id": "7d9a0d0f-73ae-49af-9211-b4cb783c0bea",
   "metadata": {},
   "outputs": [],
   "source": [
    "from tensorflow.keras.preprocessing.sequence import pad_sequences"
   ]
  },
  {
   "cell_type": "code",
   "execution_count": 19,
   "id": "2ea39560-d32b-4d95-abe0-a21c4c9f0b13",
   "metadata": {},
   "outputs": [
    {
     "data": {
      "text/plain": [
       "array([[   0,    0,    0, ...,  801, 7295, 8771],\n",
       "       [   0,    0,    0, ..., 5197, 8698, 4738],\n",
       "       [   0,    0,    0, ..., 6421, 8995, 8023],\n",
       "       ...,\n",
       "       [   0,    0,    0, ..., 7262,  601, 2576],\n",
       "       [   0,    0,    0, ..., 2219, 9582, 9661],\n",
       "       [   0,    0,    0, ..., 8994,   69,  547]], dtype=int32)"
      ]
     },
     "execution_count": 19,
     "metadata": {},
     "output_type": "execute_result"
    }
   ],
   "source": [
    "equalLenSequenced = pad_sequences(encodedCorpus, maxlen = maxSentLen, )\n",
    "equalLenSequenced"
   ]
  },
  {
   "cell_type": "markdown",
   "id": "fb3567a8-c1e9-48ad-b4af-04767181f9e0",
   "metadata": {},
   "source": [
    "## **Creating model architecture**\n",
    "Embedding layer args\n",
    "Args:\n",
    "* input_dim: Integer. Size of the vocabulary,\n",
    "    i.e. maximum integer index + 1.\n",
    "* output_dim: Integer. Dimension of the dense embedding.\n",
    "* embeddings_initializer: Initializer for the `embeddings`\n",
    "    matrix (see `keras.initializers`).\n",
    "* embeddings_regularizer: Regularizer function applied to\n",
    "    the `embeddings` matrix (see `keras.regularizers`).\n",
    "* embeddings_constraint: Constraint function applied to\n",
    "    the `embeddings` matrix (see `keras.constraints`).\n",
    "* mask_zero: Boolean, whether or not the input value 0 is a special \"padding\"\n",
    "    value that should be masked out.\n",
    "    This is useful when using recurrent layers\n",
    "    which may take variable length input.\n",
    "    If this is `True`, then all subsequent layers\n",
    "    in the model need to support masking or an exception will be raised.\n",
    "    If mask_zero is set to True, as a consequence, index 0 cannot be\n",
    "    used in the vocabulary (input_dim should equal size of\n",
    "    vocabulary + 1).\n",
    "* input_length: Length of input sequences, when it is constant.\n",
    "    This argument is required if you are going to connect\n",
    "    `Flatten` then `Dense` layers upstream\n",
    "    (without it, the shape of the dense outputs cannot be computed).\n",
    "\n",
    "* Input shape:\n",
    "  2D tensor with shape: `(batch_size, input_length)`.\n",
    "\n",
    "* Output shape:\n",
    "  3D tensor with shape: `(batch_size, input_length, output_dim)`."
   ]
  },
  {
   "cell_type": "code",
   "execution_count": 20,
   "id": "b3b9726c-0095-4cfb-b4a3-04d1347e96ca",
   "metadata": {},
   "outputs": [],
   "source": [
    "# importing librares \n",
    "from tensorflow.keras.layers import LSTM, Dense, Dropout, Embedding, BatchNormalization\n",
    "from tensorflow.keras.models import Sequential"
   ]
  },
  {
   "cell_type": "code",
   "execution_count": 21,
   "id": "04ec4343-2798-4e3a-87e4-357e43cb0165",
   "metadata": {},
   "outputs": [
    {
     "name": "stderr",
     "output_type": "stream",
     "text": [
      "2022-11-27 12:44:49.154006: I tensorflow/core/platform/cpu_feature_guard.cc:151] This TensorFlow binary is optimized with oneAPI Deep Neural Network Library (oneDNN) to use the following CPU instructions in performance-critical operations:  SSE4.1 SSE4.2 AVX AVX2 FMA\n",
      "To enable them in other operations, rebuild TensorFlow with the appropriate compiler flags.\n",
      "2022-11-27 12:44:49.163775: I tensorflow/core/common_runtime/process_util.cc:146] Creating new thread pool with default inter op setting: 2. Tune using inter_op_parallelism_threads for best performance.\n"
     ]
    }
   ],
   "source": [
    "# input_dim: Size of the vocabulary\n",
    "# output_dim: Dimension of the dense embedding. len of features\n",
    "\n",
    "model = Sequential()\n",
    "model.add(Embedding(input_dim = vocab, output_dim = 100, input_length = maxSentLen))\n",
    "model.add(Dropout(0.2))\n",
    "model.add(LSTM(units = 100))\n",
    "model.add(BatchNormalization())\n",
    "model.add(Dropout(0.2))\n",
    "model.add(Dense(1, activation = \"sigmoid\"))"
   ]
  },
  {
   "cell_type": "code",
   "execution_count": 22,
   "id": "7ebc57a7-73de-481e-b05f-76615c8bd0c7",
   "metadata": {},
   "outputs": [
    {
     "name": "stdout",
     "output_type": "stream",
     "text": [
      "Model: \"sequential\"\n",
      "_________________________________________________________________\n",
      " Layer (type)                Output Shape              Param #   \n",
      "=================================================================\n",
      " embedding (Embedding)       (None, 47, 100)           1000000   \n",
      "                                                                 \n",
      " dropout (Dropout)           (None, 47, 100)           0         \n",
      "                                                                 \n",
      " lstm (LSTM)                 (None, 100)               80400     \n",
      "                                                                 \n",
      " batch_normalization (BatchN  (None, 100)              400       \n",
      " ormalization)                                                   \n",
      "                                                                 \n",
      " dropout_1 (Dropout)         (None, 100)               0         \n",
      "                                                                 \n",
      " dense (Dense)               (None, 1)                 101       \n",
      "                                                                 \n",
      "=================================================================\n",
      "Total params: 1,080,901\n",
      "Trainable params: 1,080,701\n",
      "Non-trainable params: 200\n",
      "_________________________________________________________________\n"
     ]
    }
   ],
   "source": [
    "model.summary()"
   ]
  },
  {
   "cell_type": "markdown",
   "id": "f7e84cc9-fcf2-4640-8acc-6d0d6d2a23bf",
   "metadata": {},
   "source": [
    "## **compiling our Model**"
   ]
  },
  {
   "cell_type": "code",
   "execution_count": 23,
   "id": "8a793faf-a3e5-414e-9d11-ae90c89ca1a8",
   "metadata": {},
   "outputs": [],
   "source": [
    "model.compile(optimizer=\"adam\", loss = \"binary_crossentropy\", metrics = [\"accuracy\"])"
   ]
  },
  {
   "cell_type": "markdown",
   "id": "626f5f4c-355e-4df5-9900-cc57574cee9e",
   "metadata": {},
   "source": [
    "## **Splitting the dataset into training and testing splits**"
   ]
  },
  {
   "cell_type": "code",
   "execution_count": 24,
   "id": "fab6bbc8-aee3-4d5c-a68a-b0dadf07862a",
   "metadata": {},
   "outputs": [],
   "source": [
    "from sklearn.model_selection import train_test_split"
   ]
  },
  {
   "cell_type": "code",
   "execution_count": 25,
   "id": "ca1bf8a4-af94-4b09-bdb9-87ed96c84eb9",
   "metadata": {},
   "outputs": [],
   "source": [
    "XTrain, XTest, ytrain, ytest = train_test_split(equalLenSequenced, y, random_state=0, test_size=0.3)"
   ]
  },
  {
   "cell_type": "markdown",
   "id": "b31af639-9aa1-4650-8adf-353d669a5093",
   "metadata": {},
   "source": [
    "## **Model training**"
   ]
  },
  {
   "cell_type": "code",
   "execution_count": 26,
   "id": "bf6b71dc-75df-411c-9d86-0fccd3484577",
   "metadata": {},
   "outputs": [
    {
     "name": "stdout",
     "output_type": "stream",
     "text": [
      "Epoch 1/10\n",
      "400/400 [==============================] - 127s 303ms/step - loss: 0.2354 - accuracy: 0.9049 - val_loss: 0.4045 - val_accuracy: 0.7687\n",
      "Epoch 2/10\n",
      "400/400 [==============================] - 91s 228ms/step - loss: 0.1122 - accuracy: 0.9575 - val_loss: 0.2106 - val_accuracy: 0.9249\n",
      "Epoch 3/10\n",
      "400/400 [==============================] - 64s 161ms/step - loss: 0.0611 - accuracy: 0.9774 - val_loss: 0.2488 - val_accuracy: 0.9141\n",
      "Epoch 4/10\n",
      "400/400 [==============================] - 45s 114ms/step - loss: 0.0409 - accuracy: 0.9855 - val_loss: 0.3196 - val_accuracy: 0.9101\n",
      "Epoch 5/10\n",
      "400/400 [==============================] - 47s 118ms/step - loss: 0.0335 - accuracy: 0.9891 - val_loss: 0.3425 - val_accuracy: 0.9180\n",
      "Epoch 6/10\n",
      "400/400 [==============================] - 47s 118ms/step - loss: 0.0267 - accuracy: 0.9911 - val_loss: 0.3522 - val_accuracy: 0.9185\n",
      "Epoch 7/10\n",
      "400/400 [==============================] - 47s 118ms/step - loss: 0.0217 - accuracy: 0.9934 - val_loss: 0.4157 - val_accuracy: 0.9151\n",
      "Epoch 8/10\n",
      "400/400 [==============================] - 49s 122ms/step - loss: 0.0171 - accuracy: 0.9944 - val_loss: 0.4843 - val_accuracy: 0.9196\n",
      "Epoch 9/10\n",
      "400/400 [==============================] - 39s 98ms/step - loss: 0.0153 - accuracy: 0.9946 - val_loss: 0.4823 - val_accuracy: 0.9182\n",
      "Epoch 10/10\n",
      "400/400 [==============================] - 40s 99ms/step - loss: 0.0120 - accuracy: 0.9959 - val_loss: 0.5391 - val_accuracy: 0.9121\n"
     ]
    }
   ],
   "source": [
    "history = model.fit(XTrain, ytrain, epochs=10, validation_data=(XTest, ytest))"
   ]
  },
  {
   "cell_type": "markdown",
   "id": "6262516d-ebd8-44fd-a78e-6943e70593c2",
   "metadata": {},
   "source": [
    "## **Evalutaion**"
   ]
  },
  {
   "cell_type": "code",
   "execution_count": 27,
   "id": "cff7a838-638c-4179-9bcc-db173cfff487",
   "metadata": {},
   "outputs": [
    {
     "name": "stdout",
     "output_type": "stream",
     "text": [
      "172/172 [==============================] - 5s 28ms/step - loss: 0.5391 - accuracy: 0.9121\n"
     ]
    },
    {
     "data": {
      "text/plain": [
       "[0.5391464829444885, 0.9121400117874146]"
      ]
     },
     "execution_count": 27,
     "metadata": {},
     "output_type": "execute_result"
    }
   ],
   "source": [
    "model.evaluate(XTest, ytest)"
   ]
  },
  {
   "cell_type": "code",
   "execution_count": 28,
   "id": "24868c9e-1c5a-4d39-ad09-7424a201eb1b",
   "metadata": {},
   "outputs": [
    {
     "data": {
      "image/png": "[encoded data removed]",
      "text/plain": [
       "<Figure size 640x480 with 1 Axes>"
      ]
     },
     "metadata": {},
     "output_type": "display_data"
    }
   ],
   "source": [
    "plt.plot(history.history['loss'])\n",
    "plt.plot(history.history['val_loss'])\n",
    "plt.show()"
   ]
  },
  {
   "cell_type": "code",
   "execution_count": 56,
   "id": "6daf62a4-cce6-4863-8bb0-1672b37198f8",
   "metadata": {},
   "outputs": [
    {
     "data": {
      "image/png": "[encoded data removed]",
      "text/plain": [
       "<Figure size 640x480 with 1 Axes>"
      ]
     },
     "metadata": {},
     "output_type": "display_data"
    }
   ],
   "source": [
    "plt.plot(history.history['accuracy'])\n",
    "plt.plot(history.history['val_accuracy'])\n",
    "plt.show()"
   ]
  },
  {
   "cell_type": "markdown",
   "id": "df0c3aef-7bbc-467e-8852-7dc74b90a9ff",
   "metadata": {},
   "source": [
    "It's going to overfit, we can do some hyperparameter tuning so that it did not overfit"
   ]
  }
 ],
 "metadata": {
  "kernelspec": {
   "display_name": "Python 3 (ipykernel)",
   "language": "python",
   "name": "python3"
  },
  "language_info": {
   "codemirror_mode": {
    "name": "ipython",
    "version": 3
   },
   "file_extension": ".py",
   "mimetype": "text/x-python",
   "name": "python",
   "nbconvert_exporter": "python",
   "pygments_lexer": "ipython3",
   "version": "3.10.6"
  }
 },
 "nbformat": 4,
 "nbformat_minor": 5
}
