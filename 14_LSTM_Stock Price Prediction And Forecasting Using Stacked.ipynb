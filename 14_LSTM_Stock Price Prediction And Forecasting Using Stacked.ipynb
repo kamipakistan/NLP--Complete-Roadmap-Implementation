{
 "cells": [
  {
   "cell_type": "markdown",
   "id": "1caa9907-1486-4673-953b-bbe611a9c6a7",
   "metadata": {},
   "source": [
    "# **Stock Price Prediction And Forecasting Using Stacked LSTM**"
   ]
  },
  {
   "cell_type": "code",
   "execution_count": 95,
   "id": "2932da0e-0004-4584-8313-36666b72ec59",
   "metadata": {},
   "outputs": [],
   "source": [
    "# importing necessary libraries\n",
    "import pandas_datareader as pdr\n",
    "import os\n",
    "import pandas as pd\n",
    "import matplotlib.pyplot as plt\n",
    "import seaborn as sns\n",
    "import numpy as np"
   ]
  },
  {
   "cell_type": "code",
   "execution_count": 46,
   "id": "d73fa6c0-fa95-43bc-8d82-4701d68064cf",
   "metadata": {},
   "outputs": [],
   "source": [
    "apiKey = \"\""
   ]
  },
  {
   "cell_type": "code",
   "execution_count": 47,
   "id": "6c967eb2-3da3-4cf0-9bb2-88967a91ad4c",
   "metadata": {},
   "outputs": [
    {
     "name": "stderr",
     "output_type": "stream",
     "text": [
      "/home/kamipakistan/anaconda3/envs/AI/lib/python3.10/site-packages/pandas_datareader/tiingo.py:234: FutureWarning: In a future version of pandas all arguments of concat except for the argument 'objs' will be keyword-only.\n",
      "  return pd.concat(dfs, self._concat_axis)\n"
     ]
    },
    {
     "data": {
      "text/html": [
       "<div>\n",
       "<style scoped>\n",
       "    .dataframe tbody tr th:only-of-type {\n",
       "        vertical-align: middle;\n",
       "    }\n",
       "\n",
       "    .dataframe tbody tr th {\n",
       "        vertical-align: top;\n",
       "    }\n",
       "\n",
       "    .dataframe thead th {\n",
       "        text-align: right;\n",
       "    }\n",
       "</style>\n",
       "<table border=\"1\" class=\"dataframe\">\n",
       "  <thead>\n",
       "    <tr style=\"text-align: right;\">\n",
       "      <th></th>\n",
       "      <th></th>\n",
       "      <th>close</th>\n",
       "      <th>high</th>\n",
       "      <th>low</th>\n",
       "      <th>open</th>\n",
       "      <th>volume</th>\n",
       "      <th>adjClose</th>\n",
       "      <th>adjHigh</th>\n",
       "      <th>adjLow</th>\n",
       "      <th>adjOpen</th>\n",
       "      <th>adjVolume</th>\n",
       "      <th>divCash</th>\n",
       "      <th>splitFactor</th>\n",
       "    </tr>\n",
       "    <tr>\n",
       "      <th>symbol</th>\n",
       "      <th>date</th>\n",
       "      <th></th>\n",
       "      <th></th>\n",
       "      <th></th>\n",
       "      <th></th>\n",
       "      <th></th>\n",
       "      <th></th>\n",
       "      <th></th>\n",
       "      <th></th>\n",
       "      <th></th>\n",
       "      <th></th>\n",
       "      <th></th>\n",
       "      <th></th>\n",
       "    </tr>\n",
       "  </thead>\n",
       "  <tbody>\n",
       "    <tr>\n",
       "      <th rowspan=\"5\" valign=\"top\">AAPL</th>\n",
       "      <th>2017-12-12 00:00:00+00:00</th>\n",
       "      <td>171.70</td>\n",
       "      <td>172.39</td>\n",
       "      <td>171.461</td>\n",
       "      <td>172.15</td>\n",
       "      <td>18945457</td>\n",
       "      <td>40.815488</td>\n",
       "      <td>40.979511</td>\n",
       "      <td>40.758674</td>\n",
       "      <td>40.922459</td>\n",
       "      <td>75781828</td>\n",
       "      <td>0.0</td>\n",
       "      <td>1.0</td>\n",
       "    </tr>\n",
       "    <tr>\n",
       "      <th>2017-12-13 00:00:00+00:00</th>\n",
       "      <td>172.27</td>\n",
       "      <td>173.54</td>\n",
       "      <td>172.000</td>\n",
       "      <td>172.50</td>\n",
       "      <td>23142242</td>\n",
       "      <td>40.950985</td>\n",
       "      <td>41.252882</td>\n",
       "      <td>40.886802</td>\n",
       "      <td>41.005659</td>\n",
       "      <td>92568968</td>\n",
       "      <td>0.0</td>\n",
       "      <td>1.0</td>\n",
       "    </tr>\n",
       "    <tr>\n",
       "      <th>2017-12-14 00:00:00+00:00</th>\n",
       "      <td>172.22</td>\n",
       "      <td>173.13</td>\n",
       "      <td>171.650</td>\n",
       "      <td>172.40</td>\n",
       "      <td>20219307</td>\n",
       "      <td>40.939099</td>\n",
       "      <td>41.155419</td>\n",
       "      <td>40.803602</td>\n",
       "      <td>40.981888</td>\n",
       "      <td>80877228</td>\n",
       "      <td>0.0</td>\n",
       "      <td>1.0</td>\n",
       "    </tr>\n",
       "    <tr>\n",
       "      <th>2017-12-15 00:00:00+00:00</th>\n",
       "      <td>173.97</td>\n",
       "      <td>174.17</td>\n",
       "      <td>172.460</td>\n",
       "      <td>173.63</td>\n",
       "      <td>37054632</td>\n",
       "      <td>41.355099</td>\n",
       "      <td>41.402642</td>\n",
       "      <td>40.996151</td>\n",
       "      <td>41.274276</td>\n",
       "      <td>148218528</td>\n",
       "      <td>0.0</td>\n",
       "      <td>1.0</td>\n",
       "    </tr>\n",
       "    <tr>\n",
       "      <th>2017-12-18 00:00:00+00:00</th>\n",
       "      <td>176.42</td>\n",
       "      <td>177.20</td>\n",
       "      <td>174.860</td>\n",
       "      <td>174.88</td>\n",
       "      <td>28831533</td>\n",
       "      <td>41.937498</td>\n",
       "      <td>42.122915</td>\n",
       "      <td>41.566664</td>\n",
       "      <td>41.571419</td>\n",
       "      <td>115326132</td>\n",
       "      <td>0.0</td>\n",
       "      <td>1.0</td>\n",
       "    </tr>\n",
       "  </tbody>\n",
       "</table>\n",
       "</div>"
      ],
      "text/plain": [
       "                                   close    high      low    open    volume  \\\n",
       "symbol date                                                                   \n",
       "AAPL   2017-12-12 00:00:00+00:00  171.70  172.39  171.461  172.15  18945457   \n",
       "       2017-12-13 00:00:00+00:00  172.27  173.54  172.000  172.50  23142242   \n",
       "       2017-12-14 00:00:00+00:00  172.22  173.13  171.650  172.40  20219307   \n",
       "       2017-12-15 00:00:00+00:00  173.97  174.17  172.460  173.63  37054632   \n",
       "       2017-12-18 00:00:00+00:00  176.42  177.20  174.860  174.88  28831533   \n",
       "\n",
       "                                   adjClose    adjHigh     adjLow    adjOpen  \\\n",
       "symbol date                                                                    \n",
       "AAPL   2017-12-12 00:00:00+00:00  40.815488  40.979511  40.758674  40.922459   \n",
       "       2017-12-13 00:00:00+00:00  40.950985  41.252882  40.886802  41.005659   \n",
       "       2017-12-14 00:00:00+00:00  40.939099  41.155419  40.803602  40.981888   \n",
       "       2017-12-15 00:00:00+00:00  41.355099  41.402642  40.996151  41.274276   \n",
       "       2017-12-18 00:00:00+00:00  41.937498  42.122915  41.566664  41.571419   \n",
       "\n",
       "                                  adjVolume  divCash  splitFactor  \n",
       "symbol date                                                        \n",
       "AAPL   2017-12-12 00:00:00+00:00   75781828      0.0          1.0  \n",
       "       2017-12-13 00:00:00+00:00   92568968      0.0          1.0  \n",
       "       2017-12-14 00:00:00+00:00   80877228      0.0          1.0  \n",
       "       2017-12-15 00:00:00+00:00  148218528      0.0          1.0  \n",
       "       2017-12-18 00:00:00+00:00  115326132      0.0          1.0  "
      ]
     },
     "execution_count": 47,
     "metadata": {},
     "output_type": "execute_result"
    }
   ],
   "source": [
    "# getting google data upto this date\n",
    "df = pdr.get_data_tiingo('AAPL', api_key = apiKey)\n",
    "df.head()"
   ]
  },
  {
   "cell_type": "code",
   "execution_count": 48,
   "id": "8d987133-d51e-4a9f-98bd-43c933c6c8df",
   "metadata": {},
   "outputs": [],
   "source": [
    "# saving the data to csv file for future processing\n",
    "df.to_csv(\"Datasets/appleData.csv\")"
   ]
  },
  {
   "cell_type": "code",
   "execution_count": 49,
   "id": "71366ec8-30e5-4502-88e1-7ebf0320c388",
   "metadata": {},
   "outputs": [],
   "source": [
    "# reading the saved dataset\n",
    "df = pd.read_csv(\"Datasets/appleData.csv\")"
   ]
  },
  {
   "cell_type": "code",
   "execution_count": 50,
   "id": "fbc0cd52-537b-4c39-b25f-4edbe815e40a",
   "metadata": {},
   "outputs": [
    {
     "data": {
      "text/html": [
       "<div>\n",
       "<style scoped>\n",
       "    .dataframe tbody tr th:only-of-type {\n",
       "        vertical-align: middle;\n",
       "    }\n",
       "\n",
       "    .dataframe tbody tr th {\n",
       "        vertical-align: top;\n",
       "    }\n",
       "\n",
       "    .dataframe thead th {\n",
       "        text-align: right;\n",
       "    }\n",
       "</style>\n",
       "<table border=\"1\" class=\"dataframe\">\n",
       "  <thead>\n",
       "    <tr style=\"text-align: right;\">\n",
       "      <th></th>\n",
       "      <th>symbol</th>\n",
       "      <th>date</th>\n",
       "      <th>close</th>\n",
       "      <th>high</th>\n",
       "      <th>low</th>\n",
       "      <th>open</th>\n",
       "      <th>volume</th>\n",
       "      <th>adjClose</th>\n",
       "      <th>adjHigh</th>\n",
       "      <th>adjLow</th>\n",
       "      <th>adjOpen</th>\n",
       "      <th>adjVolume</th>\n",
       "      <th>divCash</th>\n",
       "      <th>splitFactor</th>\n",
       "    </tr>\n",
       "  </thead>\n",
       "  <tbody>\n",
       "    <tr>\n",
       "      <th>0</th>\n",
       "      <td>AAPL</td>\n",
       "      <td>2017-12-12 00:00:00+00:00</td>\n",
       "      <td>171.70</td>\n",
       "      <td>172.39</td>\n",
       "      <td>171.461</td>\n",
       "      <td>172.15</td>\n",
       "      <td>18945457</td>\n",
       "      <td>40.815488</td>\n",
       "      <td>40.979511</td>\n",
       "      <td>40.758674</td>\n",
       "      <td>40.922459</td>\n",
       "      <td>75781828</td>\n",
       "      <td>0.0</td>\n",
       "      <td>1.0</td>\n",
       "    </tr>\n",
       "    <tr>\n",
       "      <th>1</th>\n",
       "      <td>AAPL</td>\n",
       "      <td>2017-12-13 00:00:00+00:00</td>\n",
       "      <td>172.27</td>\n",
       "      <td>173.54</td>\n",
       "      <td>172.000</td>\n",
       "      <td>172.50</td>\n",
       "      <td>23142242</td>\n",
       "      <td>40.950985</td>\n",
       "      <td>41.252882</td>\n",
       "      <td>40.886802</td>\n",
       "      <td>41.005659</td>\n",
       "      <td>92568968</td>\n",
       "      <td>0.0</td>\n",
       "      <td>1.0</td>\n",
       "    </tr>\n",
       "  </tbody>\n",
       "</table>\n",
       "</div>"
      ],
      "text/plain": [
       "  symbol                       date   close    high      low    open  \\\n",
       "0   AAPL  2017-12-12 00:00:00+00:00  171.70  172.39  171.461  172.15   \n",
       "1   AAPL  2017-12-13 00:00:00+00:00  172.27  173.54  172.000  172.50   \n",
       "\n",
       "     volume   adjClose    adjHigh     adjLow    adjOpen  adjVolume  divCash  \\\n",
       "0  18945457  40.815488  40.979511  40.758674  40.922459   75781828      0.0   \n",
       "1  23142242  40.950985  41.252882  40.886802  41.005659   92568968      0.0   \n",
       "\n",
       "   splitFactor  \n",
       "0          1.0  \n",
       "1          1.0  "
      ]
     },
     "execution_count": 50,
     "metadata": {},
     "output_type": "execute_result"
    }
   ],
   "source": [
    "# displaying first two records\n",
    "df.head(2)"
   ]
  },
  {
   "cell_type": "code",
   "execution_count": 51,
   "id": "9a78e704-09d5-40c5-a799-a83a847b31cc",
   "metadata": {},
   "outputs": [
    {
     "data": {
      "text/html": [
       "<div>\n",
       "<style scoped>\n",
       "    .dataframe tbody tr th:only-of-type {\n",
       "        vertical-align: middle;\n",
       "    }\n",
       "\n",
       "    .dataframe tbody tr th {\n",
       "        vertical-align: top;\n",
       "    }\n",
       "\n",
       "    .dataframe thead th {\n",
       "        text-align: right;\n",
       "    }\n",
       "</style>\n",
       "<table border=\"1\" class=\"dataframe\">\n",
       "  <thead>\n",
       "    <tr style=\"text-align: right;\">\n",
       "      <th></th>\n",
       "      <th>symbol</th>\n",
       "      <th>date</th>\n",
       "      <th>close</th>\n",
       "      <th>high</th>\n",
       "      <th>low</th>\n",
       "      <th>open</th>\n",
       "      <th>volume</th>\n",
       "      <th>adjClose</th>\n",
       "      <th>adjHigh</th>\n",
       "      <th>adjLow</th>\n",
       "      <th>adjOpen</th>\n",
       "      <th>adjVolume</th>\n",
       "      <th>divCash</th>\n",
       "      <th>splitFactor</th>\n",
       "    </tr>\n",
       "  </thead>\n",
       "  <tbody>\n",
       "    <tr>\n",
       "      <th>1256</th>\n",
       "      <td>AAPL</td>\n",
       "      <td>2022-12-08 00:00:00+00:00</td>\n",
       "      <td>142.65</td>\n",
       "      <td>143.52</td>\n",
       "      <td>141.1</td>\n",
       "      <td>142.36</td>\n",
       "      <td>62128338</td>\n",
       "      <td>142.65</td>\n",
       "      <td>143.52</td>\n",
       "      <td>141.1</td>\n",
       "      <td>142.36</td>\n",
       "      <td>62128338</td>\n",
       "      <td>0.0</td>\n",
       "      <td>1.0</td>\n",
       "    </tr>\n",
       "    <tr>\n",
       "      <th>1257</th>\n",
       "      <td>AAPL</td>\n",
       "      <td>2022-12-09 00:00:00+00:00</td>\n",
       "      <td>142.16</td>\n",
       "      <td>145.57</td>\n",
       "      <td>140.9</td>\n",
       "      <td>142.34</td>\n",
       "      <td>76097011</td>\n",
       "      <td>142.16</td>\n",
       "      <td>145.57</td>\n",
       "      <td>140.9</td>\n",
       "      <td>142.34</td>\n",
       "      <td>76097011</td>\n",
       "      <td>0.0</td>\n",
       "      <td>1.0</td>\n",
       "    </tr>\n",
       "  </tbody>\n",
       "</table>\n",
       "</div>"
      ],
      "text/plain": [
       "     symbol                       date   close    high    low    open  \\\n",
       "1256   AAPL  2022-12-08 00:00:00+00:00  142.65  143.52  141.1  142.36   \n",
       "1257   AAPL  2022-12-09 00:00:00+00:00  142.16  145.57  140.9  142.34   \n",
       "\n",
       "        volume  adjClose  adjHigh  adjLow  adjOpen  adjVolume  divCash  \\\n",
       "1256  62128338    142.65   143.52   141.1   142.36   62128338      0.0   \n",
       "1257  76097011    142.16   145.57   140.9   142.34   76097011      0.0   \n",
       "\n",
       "      splitFactor  \n",
       "1256          1.0  \n",
       "1257          1.0  "
      ]
     },
     "execution_count": 51,
     "metadata": {},
     "output_type": "execute_result"
    }
   ],
   "source": [
    "# displaying last two records\n",
    "df.tail(2)"
   ]
  },
  {
   "cell_type": "code",
   "execution_count": 60,
   "id": "6e3110d5-91bf-42ca-b02a-dd707aec7233",
   "metadata": {},
   "outputs": [],
   "source": [
    "# Selecting \"adjClose\" feature\n",
    "X = df[\"adjClose\"]"
   ]
  },
  {
   "cell_type": "code",
   "execution_count": 61,
   "id": "1a21bdbe-c320-43b2-abd8-37c54cbe7033",
   "metadata": {},
   "outputs": [
    {
     "data": {
      "text/plain": [
       "0        40.815488\n",
       "1        40.950985\n",
       "2        40.939099\n",
       "3        41.355099\n",
       "4        41.937498\n",
       "           ...    \n",
       "1253    146.630000\n",
       "1254    142.910000\n",
       "1255    140.940000\n",
       "1256    142.650000\n",
       "1257    142.160000\n",
       "Name: adjClose, Length: 1258, dtype: float64"
      ]
     },
     "execution_count": 61,
     "metadata": {},
     "output_type": "execute_result"
    }
   ],
   "source": [
    "X"
   ]
  },
  {
   "cell_type": "code",
   "execution_count": 62,
   "id": "baf78689-ce39-4cc3-96ff-799b048afd58",
   "metadata": {},
   "outputs": [
    {
     "data": {
      "text/plain": [
       "[<matplotlib.lines.Line2D at 0x7f9afc4c9330>]"
      ]
     },
     "execution_count": 62,
     "metadata": {},
     "output_type": "execute_result"
    },
    {
     "data": {
      "image/png": "[encoded data removed]",
      "text/plain": [
       "<Figure size 640x480 with 1 Axes>"
      ]
     },
     "metadata": {},
     "output_type": "display_data"
    }
   ],
   "source": [
    "plt.plot(X)"
   ]
  },
  {
   "cell_type": "code",
   "execution_count": 65,
   "id": "487df919-b9f4-43c8-a751-8a720393cf9e",
   "metadata": {},
   "outputs": [
    {
     "data": {
      "text/plain": [
       "1258"
      ]
     },
     "execution_count": 65,
     "metadata": {},
     "output_type": "execute_result"
    }
   ],
   "source": [
    "# shape of the splitted data\n",
    "dShape = X.shape[0]\n",
    "dShape"
   ]
  },
  {
   "cell_type": "code",
   "execution_count": 80,
   "id": "20b42719-0488-4982-8eea-7bff5ade9f98",
   "metadata": {},
   "outputs": [],
   "source": [
    "# specifying the sizes in percentages\n",
    "trainSize = int(dShape*0.7)\n",
    "validationSize = int(dShape*0.2)\n",
    "testSize = int(dShape*0.1)"
   ]
  },
  {
   "cell_type": "code",
   "execution_count": 81,
   "id": "2b48cb06-5ddf-472a-978b-3361c85de28a",
   "metadata": {},
   "outputs": [
    {
     "data": {
      "text/plain": [
       "(880, 251, 125)"
      ]
     },
     "execution_count": 81,
     "metadata": {},
     "output_type": "execute_result"
    }
   ],
   "source": [
    "# displaying the sizes\n",
    "trainSize, validationSize, testSize"
   ]
  },
  {
   "cell_type": "code",
   "execution_count": 82,
   "id": "3bf0891e-e6c5-4ccf-9afe-daef2893c187",
   "metadata": {},
   "outputs": [],
   "source": [
    "Xtrian, Xval, Xtest = X.iloc[:trainSize], X.iloc[trainSize:trainSize+validationSize], X.iloc[trainSize+validationSize:]"
   ]
  },
  {
   "cell_type": "code",
   "execution_count": 84,
   "id": "dd46fe67-6a96-4720-969b-a64a1d1710b6",
   "metadata": {},
   "outputs": [
    {
     "data": {
      "text/plain": [
       "(0       40.815488\n",
       " 1       40.950985\n",
       " 2       40.939099\n",
       " 3       41.355099\n",
       " 4       41.937498\n",
       "           ...    \n",
       " 875    124.803822\n",
       " 876    125.636508\n",
       " 877    126.023113\n",
       " 878    125.011994\n",
       " 879    126.241197\n",
       " Name: adjClose, Length: 880, dtype: float64,\n",
       " 880     129.343945\n",
       " 881     128.511259\n",
       " 882     129.016818\n",
       " 883     130.642539\n",
       " 884     129.324119\n",
       "            ...    \n",
       " 1126    144.937160\n",
       " 1127    145.694845\n",
       " 1128    148.257017\n",
       " 1129    147.509301\n",
       " 1130    142.205507\n",
       " Name: adjClose, Length: 251, dtype: float64,\n",
       " 1131    136.712291\n",
       " 1132    131.478282\n",
       " 1133    132.355602\n",
       " 1134    135.017469\n",
       " 1135    129.663826\n",
       "            ...    \n",
       " 1253    146.630000\n",
       " 1254    142.910000\n",
       " 1255    140.940000\n",
       " 1256    142.650000\n",
       " 1257    142.160000\n",
       " Name: adjClose, Length: 127, dtype: float64)"
      ]
     },
     "execution_count": 84,
     "metadata": {},
     "output_type": "execute_result"
    }
   ],
   "source": [
    "# displaying training, validation and testing splits\n",
    "Xtrian, Xval, Xtest"
   ]
  },
  {
   "cell_type": "code",
   "execution_count": 92,
   "id": "d7ffb5d3-7a04-44cc-a871-36ec84f25c55",
   "metadata": {},
   "outputs": [],
   "source": [
    "# Importing MinMaxScaler\n",
    "from sklearn.preprocessing import MinMaxScaler\n",
    "\n",
    "# defining scaler object\n",
    "scaler = MinMaxScaler(feature_range = (0, 1))"
   ]
  },
  {
   "cell_type": "code",
   "execution_count": 98,
   "id": "c9295bba-06ba-4795-9970-b6e0578ccdf8",
   "metadata": {},
   "outputs": [],
   "source": [
    "# applying scalling\n",
    "XtrianScaled = scaler.fit_transform(np.array(Xtrian).reshape(-1, 1))\n",
    "XvalScaled = scaler.transform(np.array(Xval).reshape(-1, 1))\n",
    "XtestScaled = scaler.transform(np.array(Xtest).reshape(-1, 1))"
   ]
  },
  {
   "cell_type": "code",
   "execution_count": 208,
   "id": "98b9fcfe-aa2b-43a7-beeb-5b7276c9d9f8",
   "metadata": {},
   "outputs": [],
   "source": [
    "def dataSetCreater(dataset, timeStamp):\n",
    "    X = [] # Feature matrix\n",
    "    y = [] # target variable\n",
    "    for i in range(len(dataset)-timeStamp-1):\n",
    "        a = dataset[i:i+timeStamp]\n",
    "        X.append(a)\n",
    "        y.append(dataset[i+timeStamp])\n",
    "        \n",
    "    return np.array(X), np.array(y)"
   ]
  },
  {
   "cell_type": "code",
   "execution_count": 212,
   "id": "863177ee-4e8e-4fe6-b9b7-c98d827800e1",
   "metadata": {},
   "outputs": [],
   "source": [
    "# Splitting the data into training, testing, and validation\n",
    "X_train, y_train = dataSetCreater(XtrianScaled, timeStamp=150)\n",
    "X_val, y_val = dataSetCreater(XvalScaled, timeStamp=150)\n",
    "X_test, y_test = dataSetCreater(XtestScaled, timeStamp=150)"
   ]
  },
  {
   "cell_type": "code",
   "execution_count": 213,
   "id": "ba777000-ed5e-4c52-b8f6-a2de535e08a2",
   "metadata": {},
   "outputs": [
    {
     "data": {
      "text/plain": [
       "((729, 150, 1), (729, 1))"
      ]
     },
     "execution_count": 213,
     "metadata": {},
     "output_type": "execute_result"
    }
   ],
   "source": [
    "X_train.shape, y_train.shape"
   ]
  },
  {
   "cell_type": "code",
   "execution_count": 214,
   "id": "30c47cf3-025c-4d91-abba-8af4a2c166ad",
   "metadata": {},
   "outputs": [],
   "source": [
    "from tensorflow.keras.layers import LSTM, Dense, Dropout\n",
    "from tensorflow.keras.models import Sequential"
   ]
  },
  {
   "cell_type": "code",
   "execution_count": 218,
   "id": "3776ba88-feae-44bc-ad44-c3b8a66a499f",
   "metadata": {},
   "outputs": [
    {
     "name": "stdout",
     "output_type": "stream",
     "text": [
      "Model: \"sequential_4\"\n",
      "_________________________________________________________________\n",
      " Layer (type)                Output Shape              Param #   \n",
      "=================================================================\n",
      " lstm_8 (LSTM)               (None, 150, 100)          40800     \n",
      "                                                                 \n",
      " lstm_9 (LSTM)               (None, 150, 100)          80400     \n",
      "                                                                 \n",
      " lstm_10 (LSTM)              (None, 100)               80400     \n",
      "                                                                 \n",
      " dense_2 (Dense)             (None, 1)                 101       \n",
      "                                                                 \n",
      "=================================================================\n",
      "Total params: 201,701\n",
      "Trainable params: 201,701\n",
      "Non-trainable params: 0\n",
      "_________________________________________________________________\n"
     ]
    }
   ],
   "source": [
    "model = Sequential()\n",
    "model.add(LSTM(100,input_shape = (150, 1),return_sequences=True))\n",
    "model.add(LSTM(100, return_sequences = True))\n",
    "model.add(LSTM(100))\n",
    "model.add(Dense(1))\n",
    "\n",
    "model.summary()"
   ]
  },
  {
   "cell_type": "code",
   "execution_count": 219,
   "id": "fb56d3e0-6498-4e95-8e0d-ea168461a6b9",
   "metadata": {},
   "outputs": [],
   "source": [
    "model.compile(loss = \"mae\", optimizer = \"adam\")"
   ]
  },
  {
   "cell_type": "code",
   "execution_count": 220,
   "id": "2d78977c-b375-47cf-b78a-59f315f94728",
   "metadata": {},
   "outputs": [
    {
     "name": "stdout",
     "output_type": "stream",
     "text": [
      "Epoch 1/100\n",
      "12/12 [==============================] - 20s 1s/step - loss: 0.1756 - val_loss: 0.1955\n",
      "Epoch 2/100\n",
      "12/12 [==============================] - 7s 619ms/step - loss: 0.0649 - val_loss: 0.1341\n",
      "Epoch 3/100\n",
      "12/12 [==============================] - 9s 723ms/step - loss: 0.0406 - val_loss: 0.0869\n",
      "Epoch 4/100\n",
      "12/12 [==============================] - 8s 677ms/step - loss: 0.0318 - val_loss: 0.0826\n",
      "Epoch 5/100\n",
      "12/12 [==============================] - 14s 1s/step - loss: 0.0295 - val_loss: 0.0975\n",
      "Epoch 6/100\n",
      "12/12 [==============================] - 17s 1s/step - loss: 0.0307 - val_loss: 0.0710\n",
      "Epoch 7/100\n",
      "12/12 [==============================] - 14s 1s/step - loss: 0.0334 - val_loss: 0.0589\n",
      "Epoch 8/100\n",
      "12/12 [==============================] - 14s 1s/step - loss: 0.0333 - val_loss: 0.0857\n",
      "Epoch 9/100\n",
      "12/12 [==============================] - 10s 808ms/step - loss: 0.0269 - val_loss: 0.0881\n",
      "Epoch 10/100\n",
      "12/12 [==============================] - 14s 1s/step - loss: 0.0267 - val_loss: 0.1018\n",
      "Epoch 11/100\n",
      "12/12 [==============================] - 13s 1s/step - loss: 0.0259 - val_loss: 0.0951\n",
      "Epoch 12/100\n",
      "12/12 [==============================] - 19s 2s/step - loss: 0.0266 - val_loss: 0.0867\n",
      "Epoch 13/100\n",
      "12/12 [==============================] - 35s 3s/step - loss: 0.0252 - val_loss: 0.0801\n",
      "Epoch 14/100\n",
      "12/12 [==============================] - 22s 2s/step - loss: 0.0250 - val_loss: 0.0690\n",
      "Epoch 15/100\n",
      "12/12 [==============================] - 35s 3s/step - loss: 0.0229 - val_loss: 0.0499\n",
      "Epoch 16/100\n",
      "12/12 [==============================] - 28s 2s/step - loss: 0.0245 - val_loss: 0.0492\n",
      "Epoch 17/100\n",
      "12/12 [==============================] - 28s 2s/step - loss: 0.0244 - val_loss: 0.0486\n",
      "Epoch 18/100\n",
      "12/12 [==============================] - 29s 2s/step - loss: 0.0267 - val_loss: 0.0466\n",
      "Epoch 19/100\n",
      "12/12 [==============================] - 25s 2s/step - loss: 0.0236 - val_loss: 0.0458\n",
      "Epoch 20/100\n",
      "12/12 [==============================] - 24s 2s/step - loss: 0.0216 - val_loss: 0.0586\n",
      "Epoch 21/100\n",
      "12/12 [==============================] - 27s 2s/step - loss: 0.0202 - val_loss: 0.0531\n",
      "Epoch 22/100\n",
      "12/12 [==============================] - 27s 2s/step - loss: 0.0201 - val_loss: 0.0589\n",
      "Epoch 23/100\n",
      "12/12 [==============================] - 31s 3s/step - loss: 0.0194 - val_loss: 0.0654\n",
      "Epoch 24/100\n",
      "12/12 [==============================] - 31s 3s/step - loss: 0.0196 - val_loss: 0.0500\n",
      "Epoch 25/100\n",
      "12/12 [==============================] - 23s 2s/step - loss: 0.0210 - val_loss: 0.0538\n",
      "Epoch 26/100\n",
      "12/12 [==============================] - 24s 2s/step - loss: 0.0217 - val_loss: 0.0740\n",
      "Epoch 27/100\n",
      "12/12 [==============================] - 25s 2s/step - loss: 0.0198 - val_loss: 0.0436\n",
      "Epoch 28/100\n",
      "12/12 [==============================] - 24s 2s/step - loss: 0.0229 - val_loss: 0.0459\n",
      "Epoch 29/100\n",
      "12/12 [==============================] - 22s 2s/step - loss: 0.0235 - val_loss: 0.0662\n",
      "Epoch 30/100\n",
      "12/12 [==============================] - 26s 2s/step - loss: 0.0196 - val_loss: 0.0670\n",
      "Epoch 31/100\n",
      "12/12 [==============================] - 24s 2s/step - loss: 0.0199 - val_loss: 0.0417\n",
      "Epoch 32/100\n",
      "12/12 [==============================] - 20s 2s/step - loss: 0.0220 - val_loss: 0.0500\n",
      "Epoch 33/100\n",
      "12/12 [==============================] - 17s 1s/step - loss: 0.0191 - val_loss: 0.0482\n",
      "Epoch 34/100\n",
      "12/12 [==============================] - 26s 2s/step - loss: 0.0188 - val_loss: 0.0419\n",
      "Epoch 35/100\n",
      "12/12 [==============================] - 33s 3s/step - loss: 0.0178 - val_loss: 0.0364\n",
      "Epoch 36/100\n",
      "12/12 [==============================] - 34s 3s/step - loss: 0.0210 - val_loss: 0.0366\n",
      "Epoch 37/100\n",
      "12/12 [==============================] - 33s 3s/step - loss: 0.0207 - val_loss: 0.0479\n",
      "Epoch 38/100\n",
      "12/12 [==============================] - 25s 2s/step - loss: 0.0191 - val_loss: 0.0749\n",
      "Epoch 39/100\n",
      "12/12 [==============================] - 17s 1s/step - loss: 0.0175 - val_loss: 0.0668\n",
      "Epoch 40/100\n",
      "12/12 [==============================] - 19s 2s/step - loss: 0.0174 - val_loss: 0.0349\n",
      "Epoch 41/100\n",
      "12/12 [==============================] - 38s 3s/step - loss: 0.0191 - val_loss: 0.0422\n",
      "Epoch 42/100\n",
      "12/12 [==============================] - 19s 2s/step - loss: 0.0176 - val_loss: 0.0732\n",
      "Epoch 43/100\n",
      "12/12 [==============================] - 38s 3s/step - loss: 0.0186 - val_loss: 0.0683\n",
      "Epoch 44/100\n",
      "12/12 [==============================] - 29s 2s/step - loss: 0.0178 - val_loss: 0.0529\n",
      "Epoch 45/100\n",
      "12/12 [==============================] - 19s 2s/step - loss: 0.0208 - val_loss: 0.0334\n",
      "Epoch 46/100\n",
      "12/12 [==============================] - 15s 1s/step - loss: 0.0167 - val_loss: 0.0358\n",
      "Epoch 47/100\n",
      "12/12 [==============================] - 16s 1s/step - loss: 0.0157 - val_loss: 0.0343\n",
      "Epoch 48/100\n",
      "12/12 [==============================] - 23s 2s/step - loss: 0.0167 - val_loss: 0.0435\n",
      "Epoch 49/100\n",
      "12/12 [==============================] - 33s 3s/step - loss: 0.0154 - val_loss: 0.0595\n",
      "Epoch 50/100\n",
      "12/12 [==============================] - 33s 3s/step - loss: 0.0151 - val_loss: 0.0452\n",
      "Epoch 51/100\n",
      "12/12 [==============================] - 35s 3s/step - loss: 0.0152 - val_loss: 0.0738\n",
      "Epoch 52/100\n",
      "12/12 [==============================] - 17s 1s/step - loss: 0.0166 - val_loss: 0.0309\n",
      "Epoch 53/100\n",
      "12/12 [==============================] - 15s 1s/step - loss: 0.0173 - val_loss: 0.0304\n",
      "Epoch 54/100\n",
      "12/12 [==============================] - 16s 1s/step - loss: 0.0166 - val_loss: 0.0719\n",
      "Epoch 55/100\n",
      "12/12 [==============================] - 23s 2s/step - loss: 0.0177 - val_loss: 0.0665\n",
      "Epoch 56/100\n",
      "12/12 [==============================] - 23s 2s/step - loss: 0.0151 - val_loss: 0.0353\n",
      "Epoch 57/100\n",
      "12/12 [==============================] - 26s 2s/step - loss: 0.0146 - val_loss: 0.0299\n",
      "Epoch 58/100\n",
      "12/12 [==============================] - 25s 2s/step - loss: 0.0146 - val_loss: 0.0623\n",
      "Epoch 59/100\n",
      "12/12 [==============================] - 26s 2s/step - loss: 0.0152 - val_loss: 0.0470\n",
      "Epoch 60/100\n",
      "12/12 [==============================] - 29s 2s/step - loss: 0.0153 - val_loss: 0.0488\n",
      "Epoch 61/100\n",
      "12/12 [==============================] - 28s 2s/step - loss: 0.0143 - val_loss: 0.0361\n",
      "Epoch 62/100\n",
      "12/12 [==============================] - 27s 2s/step - loss: 0.0148 - val_loss: 0.0302\n",
      "Epoch 63/100\n",
      "12/12 [==============================] - 23s 2s/step - loss: 0.0182 - val_loss: 0.0458\n",
      "Epoch 64/100\n",
      "12/12 [==============================] - 29s 2s/step - loss: 0.0145 - val_loss: 0.0525\n",
      "Epoch 65/100\n",
      "12/12 [==============================] - 27s 2s/step - loss: 0.0147 - val_loss: 0.0279\n",
      "Epoch 66/100\n",
      "12/12 [==============================] - 27s 2s/step - loss: 0.0157 - val_loss: 0.0395\n",
      "Epoch 67/100\n",
      "12/12 [==============================] - 26s 2s/step - loss: 0.0212 - val_loss: 0.0291\n",
      "Epoch 68/100\n",
      "12/12 [==============================] - 26s 2s/step - loss: 0.0158 - val_loss: 0.0670\n",
      "Epoch 69/100\n",
      "12/12 [==============================] - 26s 2s/step - loss: 0.0169 - val_loss: 0.0404\n",
      "Epoch 70/100\n",
      "12/12 [==============================] - 25s 2s/step - loss: 0.0152 - val_loss: 0.0633\n",
      "Epoch 71/100\n",
      "12/12 [==============================] - 30s 3s/step - loss: 0.0180 - val_loss: 0.0654\n",
      "Epoch 72/100\n",
      "12/12 [==============================] - 27s 2s/step - loss: 0.0141 - val_loss: 0.0589\n",
      "Epoch 73/100\n",
      "12/12 [==============================] - 29s 2s/step - loss: 0.0145 - val_loss: 0.0482\n",
      "Epoch 74/100\n",
      "12/12 [==============================] - 32s 3s/step - loss: 0.0132 - val_loss: 0.0298\n",
      "Epoch 75/100\n",
      "12/12 [==============================] - 29s 2s/step - loss: 0.0128 - val_loss: 0.0288\n",
      "Epoch 76/100\n",
      "12/12 [==============================] - 25s 2s/step - loss: 0.0135 - val_loss: 0.0561\n",
      "Epoch 77/100\n",
      "12/12 [==============================] - 25s 2s/step - loss: 0.0136 - val_loss: 0.0477\n",
      "Epoch 78/100\n",
      "12/12 [==============================] - 27s 2s/step - loss: 0.0130 - val_loss: 0.0419\n",
      "Epoch 79/100\n",
      "12/12 [==============================] - 27s 2s/step - loss: 0.0147 - val_loss: 0.0282\n",
      "Epoch 80/100\n",
      "12/12 [==============================] - 28s 2s/step - loss: 0.0131 - val_loss: 0.0365\n",
      "Epoch 81/100\n",
      "12/12 [==============================] - 29s 2s/step - loss: 0.0136 - val_loss: 0.0268\n",
      "Epoch 82/100\n",
      "12/12 [==============================] - 27s 2s/step - loss: 0.0147 - val_loss: 0.0372\n",
      "Epoch 83/100\n",
      "12/12 [==============================] - 27s 2s/step - loss: 0.0143 - val_loss: 0.0797\n",
      "Epoch 84/100\n",
      "12/12 [==============================] - 25s 2s/step - loss: 0.0152 - val_loss: 0.0669\n",
      "Epoch 85/100\n",
      "12/12 [==============================] - 24s 2s/step - loss: 0.0138 - val_loss: 0.0358\n",
      "Epoch 86/100\n",
      "12/12 [==============================] - 23s 2s/step - loss: 0.0126 - val_loss: 0.0450\n",
      "Epoch 87/100\n",
      "12/12 [==============================] - 22s 2s/step - loss: 0.0129 - val_loss: 0.0283\n",
      "Epoch 88/100\n",
      "12/12 [==============================] - 25s 2s/step - loss: 0.0125 - val_loss: 0.0385\n",
      "Epoch 89/100\n",
      "12/12 [==============================] - 26s 2s/step - loss: 0.0145 - val_loss: 0.0282\n",
      "Epoch 90/100\n",
      "12/12 [==============================] - 22s 2s/step - loss: 0.0157 - val_loss: 0.0318\n",
      "Epoch 91/100\n",
      "12/12 [==============================] - 27s 2s/step - loss: 0.0134 - val_loss: 0.0343\n",
      "Epoch 92/100\n",
      "12/12 [==============================] - 12s 957ms/step - loss: 0.0127 - val_loss: 0.0451\n",
      "Epoch 93/100\n",
      "12/12 [==============================] - 13s 1s/step - loss: 0.0132 - val_loss: 0.0277\n",
      "Epoch 94/100\n",
      "12/12 [==============================] - 10s 814ms/step - loss: 0.0148 - val_loss: 0.0312\n",
      "Epoch 95/100\n",
      "12/12 [==============================] - 9s 781ms/step - loss: 0.0130 - val_loss: 0.0340\n",
      "Epoch 96/100\n",
      "12/12 [==============================] - 12s 996ms/step - loss: 0.0129 - val_loss: 0.0566\n",
      "Epoch 97/100\n",
      "12/12 [==============================] - 33s 3s/step - loss: 0.0137 - val_loss: 0.0714\n",
      "Epoch 98/100\n",
      "12/12 [==============================] - 31s 3s/step - loss: 0.0134 - val_loss: 0.0367\n",
      "Epoch 99/100\n",
      "12/12 [==============================] - 34s 3s/step - loss: 0.0128 - val_loss: 0.0345\n",
      "Epoch 100/100\n",
      "12/12 [==============================] - 35s 3s/step - loss: 0.0137 - val_loss: 0.0289\n"
     ]
    }
   ],
   "source": [
    "history = model.fit(X_train, y_train, validation_data=(X_val, y_val), epochs = 100, batch_size = 64)"
   ]
  },
  {
   "cell_type": "code",
   "execution_count": 221,
   "id": "94004b81-3904-47b9-b515-d4e8c5e1fd68",
   "metadata": {},
   "outputs": [],
   "source": [
    "# making prediction on validation set\n",
    "y_valPred = model.predict(X_val)\n",
    "y_trainPred = model.predict(X_train)"
   ]
  },
  {
   "cell_type": "code",
   "execution_count": 222,
   "id": "df53fa86-6083-4c62-b38a-2a67dfc5db95",
   "metadata": {},
   "outputs": [],
   "source": [
    "# Transform back to original form\n",
    "y_valPred = scaler.inverse_transform(y_valPred)\n",
    "y_trainPred = scaler.inverse_transform(y_trainPred)"
   ]
  },
  {
   "cell_type": "code",
   "execution_count": 228,
   "id": "3f0de25f-e147-4295-802e-faf0da48e161",
   "metadata": {},
   "outputs": [
    {
     "name": "stdout",
     "output_type": "stream",
     "text": [
      "83.40551611983837\n",
      "159.03118478038297\n"
     ]
    }
   ],
   "source": [
    "# Calculate RMSE performance metrics\n",
    "from sklearn.metrics import mean_squared_error\n",
    "import math\n",
    "print(math.sqrt(mean_squared_error(y_train, y_trainPred)))\n",
    "print(math.sqrt(mean_squared_error(y_val, y_valPred)))"
   ]
  }
 ],
 "metadata": {
  "kernelspec": {
   "display_name": "Python 3 (ipykernel)",
   "language": "python",
   "name": "python3"
  },
  "language_info": {
   "codemirror_mode": {
    "name": "ipython",
    "version": 3
   },
   "file_extension": ".py",
   "mimetype": "text/x-python",
   "name": "python",
   "nbconvert_exporter": "python",
   "pygments_lexer": "ipython3",
   "version": "3.10.6"
  }
 },
 "nbformat": 4,
 "nbformat_minor": 5
}
