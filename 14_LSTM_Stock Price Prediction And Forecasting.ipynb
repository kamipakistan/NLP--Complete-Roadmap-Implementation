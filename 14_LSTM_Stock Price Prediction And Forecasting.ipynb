{
 "cells": [
  {
   "cell_type": "markdown",
   "id": "1caa9907-1486-4673-953b-bbe611a9c6a7",
   "metadata": {},
   "source": [
    "# **Stock Price Prediction And Forecasting Using Stacked LSTM**"
   ]
  },
  {
   "cell_type": "code",
   "execution_count": 102,
   "id": "2932da0e-0004-4584-8313-36666b72ec59",
   "metadata": {},
   "outputs": [],
   "source": [
    "# importing necessary libraries\n",
    "import pandas_datareader as pdr\n",
    "import os\n",
    "import pandas as pd\n",
    "import matplotlib.pyplot as plt\n",
    "import seaborn as sns\n",
    "import numpy as np"
   ]
  },
  {
   "cell_type": "code",
   "execution_count": 103,
   "id": "d73fa6c0-fa95-43bc-8d82-4701d68064cf",
   "metadata": {},
   "outputs": [],
   "source": [
    "apiKey = \"\""
   ]
  },
  {
   "cell_type": "code",
   "execution_count": 104,
   "id": "6c967eb2-3da3-4cf0-9bb2-88967a91ad4c",
   "metadata": {},
   "outputs": [],
   "source": [
    "# # getting google data upto this date\n",
    "# df = pdr.get_data_tiingo('AAPL', api_key = apiKey)\n",
    "# df.head()"
   ]
  },
  {
   "cell_type": "code",
   "execution_count": 105,
   "id": "8d987133-d51e-4a9f-98bd-43c933c6c8df",
   "metadata": {},
   "outputs": [],
   "source": [
    "# # saving the data to csv file for future processing\n",
    "# df.to_csv(\"Datasets/appleData.csv\")"
   ]
  },
  {
   "cell_type": "code",
   "execution_count": 106,
   "id": "71366ec8-30e5-4502-88e1-7ebf0320c388",
   "metadata": {},
   "outputs": [],
   "source": [
    "# reading the saved dataset\n",
    "df = pd.read_csv(\"Datasets/appleData.csv\")"
   ]
  },
  {
   "cell_type": "code",
   "execution_count": 107,
   "id": "fbc0cd52-537b-4c39-b25f-4edbe815e40a",
   "metadata": {},
   "outputs": [
    {
     "data": {
      "text/html": [
       "<div>\n",
       "<style scoped>\n",
       "    .dataframe tbody tr th:only-of-type {\n",
       "        vertical-align: middle;\n",
       "    }\n",
       "\n",
       "    .dataframe tbody tr th {\n",
       "        vertical-align: top;\n",
       "    }\n",
       "\n",
       "    .dataframe thead th {\n",
       "        text-align: right;\n",
       "    }\n",
       "</style>\n",
       "<table border=\"1\" class=\"dataframe\">\n",
       "  <thead>\n",
       "    <tr style=\"text-align: right;\">\n",
       "      <th></th>\n",
       "      <th>symbol</th>\n",
       "      <th>date</th>\n",
       "      <th>close</th>\n",
       "      <th>high</th>\n",
       "      <th>low</th>\n",
       "      <th>open</th>\n",
       "      <th>volume</th>\n",
       "      <th>adjClose</th>\n",
       "      <th>adjHigh</th>\n",
       "      <th>adjLow</th>\n",
       "      <th>adjOpen</th>\n",
       "      <th>adjVolume</th>\n",
       "      <th>divCash</th>\n",
       "      <th>splitFactor</th>\n",
       "    </tr>\n",
       "  </thead>\n",
       "  <tbody>\n",
       "    <tr>\n",
       "      <th>0</th>\n",
       "      <td>AAPL</td>\n",
       "      <td>2017-12-12 00:00:00+00:00</td>\n",
       "      <td>171.70</td>\n",
       "      <td>172.39</td>\n",
       "      <td>171.461</td>\n",
       "      <td>172.15</td>\n",
       "      <td>18945457</td>\n",
       "      <td>40.815488</td>\n",
       "      <td>40.979511</td>\n",
       "      <td>40.758674</td>\n",
       "      <td>40.922459</td>\n",
       "      <td>75781828</td>\n",
       "      <td>0.0</td>\n",
       "      <td>1.0</td>\n",
       "    </tr>\n",
       "    <tr>\n",
       "      <th>1</th>\n",
       "      <td>AAPL</td>\n",
       "      <td>2017-12-13 00:00:00+00:00</td>\n",
       "      <td>172.27</td>\n",
       "      <td>173.54</td>\n",
       "      <td>172.000</td>\n",
       "      <td>172.50</td>\n",
       "      <td>23142242</td>\n",
       "      <td>40.950985</td>\n",
       "      <td>41.252882</td>\n",
       "      <td>40.886802</td>\n",
       "      <td>41.005659</td>\n",
       "      <td>92568968</td>\n",
       "      <td>0.0</td>\n",
       "      <td>1.0</td>\n",
       "    </tr>\n",
       "  </tbody>\n",
       "</table>\n",
       "</div>"
      ],
      "text/plain": [
       "  symbol                       date   close    high      low    open  \\\n",
       "0   AAPL  2017-12-12 00:00:00+00:00  171.70  172.39  171.461  172.15   \n",
       "1   AAPL  2017-12-13 00:00:00+00:00  172.27  173.54  172.000  172.50   \n",
       "\n",
       "     volume   adjClose    adjHigh     adjLow    adjOpen  adjVolume  divCash  \\\n",
       "0  18945457  40.815488  40.979511  40.758674  40.922459   75781828      0.0   \n",
       "1  23142242  40.950985  41.252882  40.886802  41.005659   92568968      0.0   \n",
       "\n",
       "   splitFactor  \n",
       "0          1.0  \n",
       "1          1.0  "
      ]
     },
     "execution_count": 107,
     "metadata": {},
     "output_type": "execute_result"
    }
   ],
   "source": [
    "# displaying first two records\n",
    "df.head(2)"
   ]
  },
  {
   "cell_type": "code",
   "execution_count": 108,
   "id": "9a78e704-09d5-40c5-a799-a83a847b31cc",
   "metadata": {},
   "outputs": [
    {
     "data": {
      "text/html": [
       "<div>\n",
       "<style scoped>\n",
       "    .dataframe tbody tr th:only-of-type {\n",
       "        vertical-align: middle;\n",
       "    }\n",
       "\n",
       "    .dataframe tbody tr th {\n",
       "        vertical-align: top;\n",
       "    }\n",
       "\n",
       "    .dataframe thead th {\n",
       "        text-align: right;\n",
       "    }\n",
       "</style>\n",
       "<table border=\"1\" class=\"dataframe\">\n",
       "  <thead>\n",
       "    <tr style=\"text-align: right;\">\n",
       "      <th></th>\n",
       "      <th>symbol</th>\n",
       "      <th>date</th>\n",
       "      <th>close</th>\n",
       "      <th>high</th>\n",
       "      <th>low</th>\n",
       "      <th>open</th>\n",
       "      <th>volume</th>\n",
       "      <th>adjClose</th>\n",
       "      <th>adjHigh</th>\n",
       "      <th>adjLow</th>\n",
       "      <th>adjOpen</th>\n",
       "      <th>adjVolume</th>\n",
       "      <th>divCash</th>\n",
       "      <th>splitFactor</th>\n",
       "    </tr>\n",
       "  </thead>\n",
       "  <tbody>\n",
       "    <tr>\n",
       "      <th>1256</th>\n",
       "      <td>AAPL</td>\n",
       "      <td>2022-12-08 00:00:00+00:00</td>\n",
       "      <td>142.65</td>\n",
       "      <td>143.52</td>\n",
       "      <td>141.1</td>\n",
       "      <td>142.36</td>\n",
       "      <td>62128338</td>\n",
       "      <td>142.65</td>\n",
       "      <td>143.52</td>\n",
       "      <td>141.1</td>\n",
       "      <td>142.36</td>\n",
       "      <td>62128338</td>\n",
       "      <td>0.0</td>\n",
       "      <td>1.0</td>\n",
       "    </tr>\n",
       "    <tr>\n",
       "      <th>1257</th>\n",
       "      <td>AAPL</td>\n",
       "      <td>2022-12-09 00:00:00+00:00</td>\n",
       "      <td>142.16</td>\n",
       "      <td>145.57</td>\n",
       "      <td>140.9</td>\n",
       "      <td>142.34</td>\n",
       "      <td>76097011</td>\n",
       "      <td>142.16</td>\n",
       "      <td>145.57</td>\n",
       "      <td>140.9</td>\n",
       "      <td>142.34</td>\n",
       "      <td>76097011</td>\n",
       "      <td>0.0</td>\n",
       "      <td>1.0</td>\n",
       "    </tr>\n",
       "  </tbody>\n",
       "</table>\n",
       "</div>"
      ],
      "text/plain": [
       "     symbol                       date   close    high    low    open  \\\n",
       "1256   AAPL  2022-12-08 00:00:00+00:00  142.65  143.52  141.1  142.36   \n",
       "1257   AAPL  2022-12-09 00:00:00+00:00  142.16  145.57  140.9  142.34   \n",
       "\n",
       "        volume  adjClose  adjHigh  adjLow  adjOpen  adjVolume  divCash  \\\n",
       "1256  62128338    142.65   143.52   141.1   142.36   62128338      0.0   \n",
       "1257  76097011    142.16   145.57   140.9   142.34   76097011      0.0   \n",
       "\n",
       "      splitFactor  \n",
       "1256          1.0  \n",
       "1257          1.0  "
      ]
     },
     "execution_count": 108,
     "metadata": {},
     "output_type": "execute_result"
    }
   ],
   "source": [
    "# displaying last two records\n",
    "df.tail(2)"
   ]
  },
  {
   "cell_type": "code",
   "execution_count": 109,
   "id": "6e3110d5-91bf-42ca-b02a-dd707aec7233",
   "metadata": {},
   "outputs": [],
   "source": [
    "# Selecting \"adjClose\" feature\n",
    "X = df[\"adjClose\"]"
   ]
  },
  {
   "cell_type": "code",
   "execution_count": 110,
   "id": "1a21bdbe-c320-43b2-abd8-37c54cbe7033",
   "metadata": {},
   "outputs": [
    {
     "data": {
      "text/plain": [
       "0        40.815488\n",
       "1        40.950985\n",
       "2        40.939099\n",
       "3        41.355099\n",
       "4        41.937498\n",
       "           ...    \n",
       "1253    146.630000\n",
       "1254    142.910000\n",
       "1255    140.940000\n",
       "1256    142.650000\n",
       "1257    142.160000\n",
       "Name: adjClose, Length: 1258, dtype: float64"
      ]
     },
     "execution_count": 110,
     "metadata": {},
     "output_type": "execute_result"
    }
   ],
   "source": [
    "X"
   ]
  },
  {
   "cell_type": "code",
   "execution_count": 111,
   "id": "baf78689-ce39-4cc3-96ff-799b048afd58",
   "metadata": {},
   "outputs": [
    {
     "data": {
      "text/plain": [
       "[<matplotlib.lines.Line2D at 0x7f9200838f40>]"
      ]
     },
     "execution_count": 111,
     "metadata": {},
     "output_type": "execute_result"
    },
    {
     "data": {
      "image/png": "[encoded data removed]",
      "text/plain": [
       "<Figure size 640x480 with 1 Axes>"
      ]
     },
     "metadata": {},
     "output_type": "display_data"
    }
   ],
   "source": [
    "plt.plot(X)"
   ]
  },
  {
   "cell_type": "code",
   "execution_count": 112,
   "id": "487df919-b9f4-43c8-a751-8a720393cf9e",
   "metadata": {},
   "outputs": [
    {
     "data": {
      "text/plain": [
       "1258"
      ]
     },
     "execution_count": 112,
     "metadata": {},
     "output_type": "execute_result"
    }
   ],
   "source": [
    "# shape of the splitted data\n",
    "dShape = X.shape[0]\n",
    "dShape"
   ]
  },
  {
   "cell_type": "code",
   "execution_count": 113,
   "id": "20b42719-0488-4982-8eea-7bff5ade9f98",
   "metadata": {},
   "outputs": [],
   "source": [
    "# specifying the sizes in percentages\n",
    "trainSize = int(dShape*0.7)\n",
    "validationSize = int(dShape*0.3)"
   ]
  },
  {
   "cell_type": "code",
   "execution_count": 114,
   "id": "2b48cb06-5ddf-472a-978b-3361c85de28a",
   "metadata": {},
   "outputs": [
    {
     "data": {
      "text/plain": [
       "(880, 377)"
      ]
     },
     "execution_count": 114,
     "metadata": {},
     "output_type": "execute_result"
    }
   ],
   "source": [
    "# displaying the sizes\n",
    "trainSize, validationSize"
   ]
  },
  {
   "cell_type": "code",
   "execution_count": 115,
   "id": "3bf0891e-e6c5-4ccf-9afe-daef2893c187",
   "metadata": {},
   "outputs": [],
   "source": [
    "Xtrian = X.iloc[:trainSize]\n",
    "Xval = X.iloc[trainSize:trainSize+validationSize]"
   ]
  },
  {
   "cell_type": "code",
   "execution_count": 116,
   "id": "dd46fe67-6a96-4720-969b-a64a1d1710b6",
   "metadata": {},
   "outputs": [
    {
     "data": {
      "text/plain": [
       "(0       40.815488\n",
       " 1       40.950985\n",
       " 2       40.939099\n",
       " 3       41.355099\n",
       " 4       41.937498\n",
       "           ...    \n",
       " 875    124.803822\n",
       " 876    125.636508\n",
       " 877    126.023113\n",
       " 878    125.011994\n",
       " 879    126.241197\n",
       " Name: adjClose, Length: 880, dtype: float64,\n",
       " 880     129.343945\n",
       " 881     128.511259\n",
       " 882     129.016818\n",
       " 883     130.642539\n",
       " 884     129.324119\n",
       "            ...    \n",
       " 1252    147.810000\n",
       " 1253    146.630000\n",
       " 1254    142.910000\n",
       " 1255    140.940000\n",
       " 1256    142.650000\n",
       " Name: adjClose, Length: 377, dtype: float64)"
      ]
     },
     "execution_count": 116,
     "metadata": {},
     "output_type": "execute_result"
    }
   ],
   "source": [
    "# displaying training, validation\n",
    "Xtrian, Xval"
   ]
  },
  {
   "cell_type": "code",
   "execution_count": 117,
   "id": "d7ffb5d3-7a04-44cc-a871-36ec84f25c55",
   "metadata": {},
   "outputs": [],
   "source": [
    "# Importing MinMaxScaler\n",
    "from sklearn.preprocessing import MinMaxScaler\n",
    "\n",
    "# defining scaler object\n",
    "scaler = MinMaxScaler(feature_range = (0, 1))"
   ]
  },
  {
   "cell_type": "code",
   "execution_count": 118,
   "id": "c9295bba-06ba-4795-9970-b6e0578ccdf8",
   "metadata": {},
   "outputs": [],
   "source": [
    "# applying scalling\n",
    "XtrianScaled = scaler.fit_transform(np.array(Xtrian).reshape(-1, 1))\n",
    "XvalScaled = scaler.transform(np.array(Xval).reshape(-1, 1))"
   ]
  },
  {
   "cell_type": "code",
   "execution_count": 119,
   "id": "98b9fcfe-aa2b-43a7-beeb-5b7276c9d9f8",
   "metadata": {},
   "outputs": [],
   "source": [
    "def dataSetCreater(dataset, timeStamp):\n",
    "    X = [] # Feature matrix\n",
    "    y = [] # target variable\n",
    "    for i in range(len(dataset)-timeStamp):\n",
    "        a = dataset[i:i+timeStamp]\n",
    "        X.append(a)\n",
    "        y.append(dataset[i+timeStamp])\n",
    "        \n",
    "    return np.array(X), np.array(y)"
   ]
  },
  {
   "cell_type": "code",
   "execution_count": 120,
   "id": "863177ee-4e8e-4fe6-b9b7-c98d827800e1",
   "metadata": {},
   "outputs": [],
   "source": [
    "# Splitting the data into training, testing, and validation\n",
    "X_train, y_train = dataSetCreater(XtrianScaled, timeStamp=150)\n",
    "X_val, y_val = dataSetCreater(XvalScaled, timeStamp=150)"
   ]
  },
  {
   "cell_type": "code",
   "execution_count": 121,
   "id": "ba777000-ed5e-4c52-b8f6-a2de535e08a2",
   "metadata": {},
   "outputs": [
    {
     "data": {
      "text/plain": [
       "((730, 150, 1), (730, 1))"
      ]
     },
     "execution_count": 121,
     "metadata": {},
     "output_type": "execute_result"
    }
   ],
   "source": [
    "X_train.shape, y_train.shape"
   ]
  },
  {
   "cell_type": "code",
   "execution_count": 122,
   "id": "dacf4056-58f8-414c-960f-26c4a6ab279f",
   "metadata": {},
   "outputs": [
    {
     "data": {
      "text/plain": [
       "((227, 150, 1), (227, 1))"
      ]
     },
     "execution_count": 122,
     "metadata": {},
     "output_type": "execute_result"
    }
   ],
   "source": [
    "X_val.shape, y_val.shape"
   ]
  },
  {
   "cell_type": "code",
   "execution_count": 123,
   "id": "30c47cf3-025c-4d91-abba-8af4a2c166ad",
   "metadata": {},
   "outputs": [],
   "source": [
    "from tensorflow.keras.layers import LSTM, Dense, Dropout\n",
    "from tensorflow.keras.models import Sequential"
   ]
  },
  {
   "cell_type": "code",
   "execution_count": 124,
   "id": "3776ba88-feae-44bc-ad44-c3b8a66a499f",
   "metadata": {},
   "outputs": [
    {
     "name": "stdout",
     "output_type": "stream",
     "text": [
      "Model: \"sequential_1\"\n",
      "_________________________________________________________________\n",
      " Layer (type)                Output Shape              Param #   \n",
      "=================================================================\n",
      " lstm_3 (LSTM)               (None, 150, 100)          40800     \n",
      "                                                                 \n",
      " lstm_4 (LSTM)               (None, 150, 100)          80400     \n",
      "                                                                 \n",
      " lstm_5 (LSTM)               (None, 100)               80400     \n",
      "                                                                 \n",
      " dense_1 (Dense)             (None, 1)                 101       \n",
      "                                                                 \n",
      "=================================================================\n",
      "Total params: 201,701\n",
      "Trainable params: 201,701\n",
      "Non-trainable params: 0\n",
      "_________________________________________________________________\n"
     ]
    }
   ],
   "source": [
    "model = Sequential()\n",
    "model.add(LSTM(100,input_shape = (150, 1),return_sequences=True))\n",
    "model.add(LSTM(100, return_sequences = True))\n",
    "model.add(LSTM(100))\n",
    "model.add(Dense(1))\n",
    "\n",
    "model.summary()"
   ]
  },
  {
   "cell_type": "code",
   "execution_count": 24,
   "id": "fb56d3e0-6498-4e95-8e0d-ea168461a6b9",
   "metadata": {},
   "outputs": [],
   "source": [
    "model.compile(loss = \"mae\", optimizer = \"adam\")"
   ]
  },
  {
   "cell_type": "code",
   "execution_count": 22,
   "id": "2d78977c-b375-47cf-b78a-59f315f94728",
   "metadata": {},
   "outputs": [
    {
     "name": "stdout",
     "output_type": "stream",
     "text": [
      "Epoch 1/100\n",
      "12/12 [==============================] - 16s 917ms/step - loss: 0.1590 - val_loss: 0.0764\n",
      "Epoch 2/100\n",
      "12/12 [==============================] - 10s 774ms/step - loss: 0.0469 - val_loss: 0.0894\n",
      "Epoch 3/100\n",
      "12/12 [==============================] - 10s 794ms/step - loss: 0.0342 - val_loss: 0.0613\n",
      "Epoch 4/100\n",
      "12/12 [==============================] - 10s 853ms/step - loss: 0.0320 - val_loss: 0.0751\n",
      "Epoch 5/100\n",
      "12/12 [==============================] - 10s 816ms/step - loss: 0.0304 - val_loss: 0.1057\n",
      "Epoch 6/100\n",
      "12/12 [==============================] - 11s 895ms/step - loss: 0.0335 - val_loss: 0.0818\n",
      "Epoch 7/100\n",
      "12/12 [==============================] - 26s 2s/step - loss: 0.0332 - val_loss: 0.0562\n",
      "Epoch 8/100\n",
      "12/12 [==============================] - 17s 1s/step - loss: 0.0288 - val_loss: 0.0728\n",
      "Epoch 9/100\n",
      "12/12 [==============================] - 17s 1s/step - loss: 0.0259 - val_loss: 0.0626\n",
      "Epoch 10/100\n",
      "12/12 [==============================] - 9s 711ms/step - loss: 0.0262 - val_loss: 0.0523\n",
      "Epoch 11/100\n",
      "12/12 [==============================] - 9s 771ms/step - loss: 0.0237 - val_loss: 0.1174\n",
      "Epoch 12/100\n",
      "12/12 [==============================] - 9s 691ms/step - loss: 0.0255 - val_loss: 0.0652\n",
      "Epoch 13/100\n",
      "12/12 [==============================] - 9s 760ms/step - loss: 0.0223 - val_loss: 0.0472\n",
      "Epoch 14/100\n",
      "12/12 [==============================] - 16s 1s/step - loss: 0.0241 - val_loss: 0.0462\n",
      "Epoch 15/100\n",
      "12/12 [==============================] - 16s 1s/step - loss: 0.0267 - val_loss: 0.0454\n",
      "Epoch 16/100\n",
      "12/12 [==============================] - 16s 1s/step - loss: 0.0243 - val_loss: 0.0647\n",
      "Epoch 17/100\n",
      "12/12 [==============================] - 11s 893ms/step - loss: 0.0223 - val_loss: 0.0515\n",
      "Epoch 18/100\n",
      "12/12 [==============================] - 13s 1s/step - loss: 0.0223 - val_loss: 0.0785\n",
      "Epoch 19/100\n",
      "12/12 [==============================] - 9s 703ms/step - loss: 0.0211 - val_loss: 0.0724\n",
      "Epoch 20/100\n",
      "12/12 [==============================] - 10s 889ms/step - loss: 0.0210 - val_loss: 0.0429\n",
      "Epoch 21/100\n",
      "12/12 [==============================] - 8s 660ms/step - loss: 0.0196 - val_loss: 0.0600\n",
      "Epoch 22/100\n",
      "12/12 [==============================] - 17s 2s/step - loss: 0.0203 - val_loss: 0.0588\n",
      "Epoch 23/100\n",
      "12/12 [==============================] - 17s 1s/step - loss: 0.0194 - val_loss: 0.0634\n",
      "Epoch 24/100\n",
      "12/12 [==============================] - 10s 783ms/step - loss: 0.0196 - val_loss: 0.0420\n",
      "Epoch 25/100\n",
      "12/12 [==============================] - 9s 747ms/step - loss: 0.0209 - val_loss: 0.0866\n",
      "Epoch 26/100\n",
      "12/12 [==============================] - 9s 724ms/step - loss: 0.0221 - val_loss: 0.0612\n",
      "Epoch 27/100\n",
      "12/12 [==============================] - 11s 881ms/step - loss: 0.0193 - val_loss: 0.0528\n",
      "Epoch 28/100\n",
      "12/12 [==============================] - 9s 802ms/step - loss: 0.0190 - val_loss: 0.0372\n",
      "Epoch 29/100\n",
      "12/12 [==============================] - 9s 769ms/step - loss: 0.0189 - val_loss: 0.0381\n",
      "Epoch 30/100\n",
      "12/12 [==============================] - 9s 787ms/step - loss: 0.0192 - val_loss: 0.0518\n",
      "Epoch 31/100\n",
      "12/12 [==============================] - 10s 862ms/step - loss: 0.0195 - val_loss: 0.0744\n",
      "Epoch 32/100\n",
      "12/12 [==============================] - 16s 1s/step - loss: 0.0185 - val_loss: 0.0603\n",
      "Epoch 33/100\n",
      "12/12 [==============================] - 21s 2s/step - loss: 0.0193 - val_loss: 0.0366\n",
      "Epoch 34/100\n",
      "12/12 [==============================] - 18s 2s/step - loss: 0.0182 - val_loss: 0.0342\n",
      "Epoch 35/100\n",
      "12/12 [==============================] - 10s 860ms/step - loss: 0.0177 - val_loss: 0.0409\n",
      "Epoch 36/100\n",
      "12/12 [==============================] - 9s 740ms/step - loss: 0.0170 - val_loss: 0.0651\n",
      "Epoch 37/100\n",
      "12/12 [==============================] - 14s 1s/step - loss: 0.0228 - val_loss: 0.0877\n",
      "Epoch 38/100\n",
      "12/12 [==============================] - 9s 751ms/step - loss: 0.0299 - val_loss: 0.0430\n",
      "Epoch 39/100\n",
      "12/12 [==============================] - 12s 1s/step - loss: 0.0242 - val_loss: 0.0370\n",
      "Epoch 40/100\n",
      "12/12 [==============================] - 11s 977ms/step - loss: 0.0182 - val_loss: 0.0326\n",
      "Epoch 41/100\n",
      "12/12 [==============================] - 10s 843ms/step - loss: 0.0237 - val_loss: 0.0576\n",
      "Epoch 42/100\n",
      "12/12 [==============================] - 12s 999ms/step - loss: 0.0208 - val_loss: 0.0569\n",
      "Epoch 43/100\n",
      "12/12 [==============================] - 13s 885ms/step - loss: 0.0168 - val_loss: 0.0594\n",
      "Epoch 44/100\n",
      "12/12 [==============================] - 8s 668ms/step - loss: 0.0169 - val_loss: 0.0687\n",
      "Epoch 45/100\n",
      "12/12 [==============================] - 8s 635ms/step - loss: 0.0171 - val_loss: 0.0588\n",
      "Epoch 46/100\n",
      "12/12 [==============================] - 7s 599ms/step - loss: 0.0159 - val_loss: 0.0584\n",
      "Epoch 47/100\n",
      "12/12 [==============================] - 14s 1s/step - loss: 0.0183 - val_loss: 0.0909\n",
      "Epoch 48/100\n",
      "12/12 [==============================] - 16s 1s/step - loss: 0.0197 - val_loss: 0.0763\n",
      "Epoch 49/100\n",
      "12/12 [==============================] - 11s 966ms/step - loss: 0.0197 - val_loss: 0.0363\n",
      "Epoch 50/100\n",
      "12/12 [==============================] - 19s 2s/step - loss: 0.0151 - val_loss: 0.0463\n",
      "Epoch 51/100\n",
      "12/12 [==============================] - 19s 2s/step - loss: 0.0156 - val_loss: 0.0731\n",
      "Epoch 52/100\n",
      "12/12 [==============================] - 20s 2s/step - loss: 0.0192 - val_loss: 0.0689\n",
      "Epoch 53/100\n",
      "12/12 [==============================] - 11s 860ms/step - loss: 0.0164 - val_loss: 0.0515\n",
      "Epoch 54/100\n",
      "12/12 [==============================] - 10s 810ms/step - loss: 0.0148 - val_loss: 0.0313\n",
      "Epoch 55/100\n",
      "12/12 [==============================] - 7s 625ms/step - loss: 0.0144 - val_loss: 0.0505\n",
      "Epoch 56/100\n",
      "12/12 [==============================] - 8s 702ms/step - loss: 0.0147 - val_loss: 0.0426\n",
      "Epoch 57/100\n",
      "12/12 [==============================] - 9s 737ms/step - loss: 0.0153 - val_loss: 0.0532\n",
      "Epoch 58/100\n",
      "12/12 [==============================] - 15s 1s/step - loss: 0.0166 - val_loss: 0.0313\n",
      "Epoch 59/100\n",
      "12/12 [==============================] - 21s 2s/step - loss: 0.0146 - val_loss: 0.0556\n",
      "Epoch 60/100\n",
      "12/12 [==============================] - 27s 2s/step - loss: 0.0148 - val_loss: 0.0548\n",
      "Epoch 61/100\n",
      "12/12 [==============================] - 14s 1s/step - loss: 0.0144 - val_loss: 0.0336\n",
      "Epoch 62/100\n",
      "12/12 [==============================] - 12s 1s/step - loss: 0.0137 - val_loss: 0.0375\n",
      "Epoch 63/100\n",
      "12/12 [==============================] - 8s 691ms/step - loss: 0.0149 - val_loss: 0.0305\n",
      "Epoch 64/100\n",
      "12/12 [==============================] - 10s 846ms/step - loss: 0.0137 - val_loss: 0.0331\n",
      "Epoch 65/100\n",
      "12/12 [==============================] - 9s 739ms/step - loss: 0.0132 - val_loss: 0.0366\n",
      "Epoch 66/100\n",
      "12/12 [==============================] - 16s 1s/step - loss: 0.0140 - val_loss: 0.0299\n",
      "Epoch 67/100\n",
      "12/12 [==============================] - 16s 1s/step - loss: 0.0147 - val_loss: 0.0594\n",
      "Epoch 68/100\n",
      "12/12 [==============================] - 12s 1s/step - loss: 0.0143 - val_loss: 0.0466\n",
      "Epoch 69/100\n",
      "12/12 [==============================] - 10s 797ms/step - loss: 0.0158 - val_loss: 0.0402\n",
      "Epoch 70/100\n",
      "12/12 [==============================] - 10s 803ms/step - loss: 0.0130 - val_loss: 0.0277\n",
      "Epoch 71/100\n",
      "12/12 [==============================] - 18s 1s/step - loss: 0.0155 - val_loss: 0.0322\n",
      "Epoch 72/100\n",
      "12/12 [==============================] - 15s 1s/step - loss: 0.0145 - val_loss: 0.0317\n",
      "Epoch 73/100\n",
      "12/12 [==============================] - 15s 1s/step - loss: 0.0148 - val_loss: 0.0344\n",
      "Epoch 74/100\n",
      "12/12 [==============================] - 16s 1s/step - loss: 0.0142 - val_loss: 0.0368\n",
      "Epoch 75/100\n",
      "12/12 [==============================] - 16s 1s/step - loss: 0.0130 - val_loss: 0.0329\n",
      "Epoch 76/100\n",
      "12/12 [==============================] - 18s 1s/step - loss: 0.0147 - val_loss: 0.0289\n",
      "Epoch 77/100\n",
      "12/12 [==============================] - 18s 2s/step - loss: 0.0155 - val_loss: 0.0305\n",
      "Epoch 78/100\n",
      "12/12 [==============================] - 24s 2s/step - loss: 0.0146 - val_loss: 0.0281\n",
      "Epoch 79/100\n",
      "12/12 [==============================] - 15s 1s/step - loss: 0.0142 - val_loss: 0.0303\n",
      "Epoch 80/100\n",
      "12/12 [==============================] - 14s 1s/step - loss: 0.0135 - val_loss: 0.0344\n",
      "Epoch 81/100\n",
      "12/12 [==============================] - 15s 1s/step - loss: 0.0156 - val_loss: 0.0323\n",
      "Epoch 82/100\n",
      "12/12 [==============================] - 18s 2s/step - loss: 0.0129 - val_loss: 0.0480\n",
      "Epoch 83/100\n",
      "12/12 [==============================] - 15s 1s/step - loss: 0.0126 - val_loss: 0.0454\n",
      "Epoch 84/100\n",
      "12/12 [==============================] - 14s 1s/step - loss: 0.0125 - val_loss: 0.0364\n",
      "Epoch 85/100\n",
      "12/12 [==============================] - 16s 1s/step - loss: 0.0122 - val_loss: 0.0325\n",
      "Epoch 86/100\n",
      "12/12 [==============================] - 19s 2s/step - loss: 0.0131 - val_loss: 0.0437\n",
      "Epoch 87/100\n",
      "12/12 [==============================] - 18s 2s/step - loss: 0.0131 - val_loss: 0.0289\n",
      "Epoch 88/100\n",
      "12/12 [==============================] - 17s 1s/step - loss: 0.0126 - val_loss: 0.0297\n",
      "Epoch 89/100\n",
      "12/12 [==============================] - 9s 746ms/step - loss: 0.0138 - val_loss: 0.0272\n",
      "Epoch 90/100\n",
      "12/12 [==============================] - 9s 733ms/step - loss: 0.0142 - val_loss: 0.0423\n",
      "Epoch 91/100\n",
      "12/12 [==============================] - 10s 832ms/step - loss: 0.0164 - val_loss: 0.0280\n",
      "Epoch 92/100\n",
      "12/12 [==============================] - 9s 758ms/step - loss: 0.0140 - val_loss: 0.0438\n",
      "Epoch 93/100\n",
      "12/12 [==============================] - 10s 799ms/step - loss: 0.0127 - val_loss: 0.0590\n",
      "Epoch 94/100\n",
      "12/12 [==============================] - 10s 809ms/step - loss: 0.0139 - val_loss: 0.0287\n",
      "Epoch 95/100\n",
      "12/12 [==============================] - 11s 916ms/step - loss: 0.0166 - val_loss: 0.0384\n",
      "Epoch 96/100\n",
      "12/12 [==============================] - 9s 750ms/step - loss: 0.0137 - val_loss: 0.0315\n",
      "Epoch 97/100\n",
      "12/12 [==============================] - 13s 1s/step - loss: 0.0147 - val_loss: 0.0430\n",
      "Epoch 98/100\n",
      "12/12 [==============================] - 19s 2s/step - loss: 0.0131 - val_loss: 0.0301\n",
      "Epoch 99/100\n",
      "12/12 [==============================] - 19s 2s/step - loss: 0.0146 - val_loss: 0.0335\n",
      "Epoch 100/100\n",
      "12/12 [==============================] - 15s 1s/step - loss: 0.0168 - val_loss: 0.0805\n"
     ]
    }
   ],
   "source": [
    "history = model.fit(X_train, y_train, validation_data=(X_val, y_val), epochs = 100, batch_size = 64)"
   ]
  },
  {
   "cell_type": "code",
   "execution_count": null,
   "id": "f8f7f730-922f-41b2-8fe3-899a8a7eff53",
   "metadata": {},
   "outputs": [],
   "source": [
    "model.save(\"TSFmodel\")"
   ]
  },
  {
   "cell_type": "code",
   "execution_count": 125,
   "id": "b84b2fb8-0299-4a50-b27d-42ec8985a325",
   "metadata": {},
   "outputs": [],
   "source": [
    "from tensorflow.keras.models import load_model\n",
    "model = load_model(\"TSFmodel\")"
   ]
  },
  {
   "cell_type": "code",
   "execution_count": 126,
   "id": "94004b81-3904-47b9-b515-d4e8c5e1fd68",
   "metadata": {},
   "outputs": [],
   "source": [
    "# making prediction on validation set\n",
    "y_valPred = model.predict(X_val)\n",
    "y_trainPred = model.predict(X_train)"
   ]
  },
  {
   "cell_type": "code",
   "execution_count": 127,
   "id": "df53fa86-6083-4c62-b38a-2a67dfc5db95",
   "metadata": {},
   "outputs": [],
   "source": [
    "# Transform back to original form\n",
    "y_valPred = scaler.inverse_transform(y_valPred)\n",
    "y_trainPred = scaler.inverse_transform(y_trainPred)"
   ]
  },
  {
   "cell_type": "code",
   "execution_count": 128,
   "id": "3f0de25f-e147-4295-802e-faf0da48e161",
   "metadata": {},
   "outputs": [
    {
     "name": "stdout",
     "output_type": "stream",
     "text": [
      "80.25386382392762\n",
      "145.48667671138836\n"
     ]
    }
   ],
   "source": [
    "# Calculate RMSE performance metrics\n",
    "from sklearn.metrics import mean_squared_error\n",
    "import math\n",
    "print(math.sqrt(mean_squared_error(y_train, y_trainPred)))\n",
    "print(math.sqrt(mean_squared_error(y_val, y_valPred)))"
   ]
  },
  {
   "cell_type": "markdown",
   "id": "5ec40e78-451a-4e93-8496-6f6acb7ea8d8",
   "metadata": {},
   "source": [
    "## **Evalutaion**"
   ]
  },
  {
   "cell_type": "code",
   "execution_count": 33,
   "id": "030a4001-e77d-4fec-9ef6-49faa2103692",
   "metadata": {},
   "outputs": [],
   "source": [
    "# plt.plot(model.history['loss'])\n",
    "# plt.plot(model.history['val_loss'])\n",
    "# plt.show()"
   ]
  },
  {
   "cell_type": "code",
   "execution_count": 129,
   "id": "9de3ab1c-41c5-43b4-9bc9-fb8455ec202d",
   "metadata": {},
   "outputs": [
    {
     "data": {
      "text/plain": [
       "730"
      ]
     },
     "execution_count": 129,
     "metadata": {},
     "output_type": "execute_result"
    }
   ],
   "source": [
    "len(y_trainPred)"
   ]
  },
  {
   "cell_type": "markdown",
   "id": "eff8d237-0588-4607-b069-2c551e0241ac",
   "metadata": {},
   "source": [
    "### **Plotting Original set, Training and Validation set predictions**"
   ]
  },
  {
   "cell_type": "code",
   "execution_count": 165,
   "id": "c4f5012a-9e83-4f6a-ab52-8d018f534978",
   "metadata": {},
   "outputs": [],
   "source": [
    "# time stamp \n",
    "# first prediction starts after this time stamp\n",
    "stamp = 150"
   ]
  },
  {
   "cell_type": "markdown",
   "id": "35698ac4-b08e-4f03-8d01-51facfb49e12",
   "metadata": {},
   "source": [
    "**Preparing for Ploting prediction on training set**"
   ]
  },
  {
   "cell_type": "code",
   "execution_count": 166,
   "id": "cf42fd8d-13ba-4217-9d40-65588a96ca19",
   "metadata": {},
   "outputs": [
    {
     "name": "stdout",
     "output_type": "stream",
     "text": [
      "Original array shape: (1258,)\n",
      "Empty array shape: (1258,)\n"
     ]
    }
   ],
   "source": [
    "# Original array shape\n",
    "print(f\"Original array shape: {X.shape}\")\n",
    "trainingPredPlot = np.empty_like(X)\n",
    "trainingPredPlot[:] = np.nan\n",
    "\n",
    "# Shipting the training prediction 150 time stamp and assigning training prediction values to this phase\n",
    "trainingPredPlot[stamp:len(y_trainPred)+stamp] = y_trainPred.reshape(1, -1)\n",
    "\n",
    "# empty array shape\n",
    "print(f\"Empty array shape: {trainingPredPlot.shape}\")"
   ]
  },
  {
   "cell_type": "code",
   "execution_count": 175,
   "id": "8475bb48-9ddd-4e4a-9fa9-b69ad2dda53d",
   "metadata": {},
   "outputs": [
    {
     "name": "stdout",
     "output_type": "stream",
     "text": [
      "730\n"
     ]
    },
    {
     "data": {
      "text/plain": [
       "1258"
      ]
     },
     "execution_count": 175,
     "metadata": {},
     "output_type": "execute_result"
    }
   ],
   "source": [
    "# shape of the training prediction set\n",
    "print(len(y_trainPred))\n",
    "\n",
    "# Time stamp, Training set length, Time Stamp, validation set length + 1\n",
    "150+730+150+227+1"
   ]
  },
  {
   "cell_type": "markdown",
   "id": "cfae098b-b98a-4ea3-b15a-9f229a01f7c1",
   "metadata": {},
   "source": [
    "**Preparing for Ploting prediction on training set**"
   ]
  },
  {
   "cell_type": "code",
   "execution_count": 172,
   "id": "f3752b09-47ff-45c8-a7f0-4a16246fa457",
   "metadata": {},
   "outputs": [],
   "source": [
    "testingPredPlot = np.empty_like(X)\n",
    "testingPredPlot[:] = np.nan\n",
    "testingPredPlot[len(y_trainPred)+(stamp*2)+1:] = y_valPred.reshape(1, -1)"
   ]
  },
  {
   "cell_type": "code",
   "execution_count": 176,
   "id": "35e3c89c-9ab0-4e21-a0e0-5aa96c2fa3a3",
   "metadata": {},
   "outputs": [
    {
     "data": {
      "image/png": "[encoded data removed]",
      "text/plain": [
       "<Figure size 640x480 with 1 Axes>"
      ]
     },
     "metadata": {},
     "output_type": "display_data"
    }
   ],
   "source": [
    "# plot baseline and predictions\n",
    "plt.plot(X, label = \"Original Set\", color = \"orange\")\n",
    "plt.plot(trainingPredPlot, label = \"Training Set Prediction\", color = \"black\")\n",
    "plt.plot(testingPredPlot, label = \"Testing Set Prediction\", color = \"blue\")\n",
    "plt.legend()\n",
    "plt.show()"
   ]
  }
 ],
 "metadata": {
  "kernelspec": {
   "display_name": "Python 3 (ipykernel)",
   "language": "python",
   "name": "python3"
  },
  "language_info": {
   "codemirror_mode": {
    "name": "ipython",
    "version": 3
   },
   "file_extension": ".py",
   "mimetype": "text/x-python",
   "name": "python",
   "nbconvert_exporter": "python",
   "pygments_lexer": "ipython3",
   "version": "3.10.6"
  }
 },
 "nbformat": 4,
 "nbformat_minor": 5
}
